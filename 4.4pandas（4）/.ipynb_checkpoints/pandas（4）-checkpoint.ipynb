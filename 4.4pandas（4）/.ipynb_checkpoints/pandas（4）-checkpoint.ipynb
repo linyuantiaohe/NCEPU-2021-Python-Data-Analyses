{
 "cells": [
  {
   "cell_type": "markdown",
   "metadata": {},
   "source": [
    "# pandas(4) 计量经济学中的常用数据及变量类型的pandas处理方法"
   ]
  },
  {
   "cell_type": "markdown",
   "metadata": {
    "toc": true
   },
   "source": [
    "<h1>Table of Contents<span class=\"tocSkip\"></span></h1>\n",
    "<div class=\"toc\"><ul class=\"toc-item\"><li><span><a href=\"#数据类型\" data-toc-modified-id=\"数据类型-1\"><span class=\"toc-item-num\">1&nbsp;&nbsp;</span>数据类型</a></span><ul class=\"toc-item\"><li><span><a href=\"#截面数据(Cross-sectional-data)\" data-toc-modified-id=\"截面数据(Cross-sectional-data)-1.1\"><span class=\"toc-item-num\">1.1&nbsp;&nbsp;</span>截面数据(Cross-sectional data)</a></span></li><li><span><a href=\"#时间序列数据-(Time-series-data)\" data-toc-modified-id=\"时间序列数据-(Time-series-data)-1.2\"><span class=\"toc-item-num\">1.2&nbsp;&nbsp;</span>时间序列数据 (Time series data)</a></span><ul class=\"toc-item\"><li><span><a href=\"#将已有字符串转换成日期类型数据，使用pandas.to_datetime\" data-toc-modified-id=\"将已有字符串转换成日期类型数据，使用pandas.to_datetime-1.2.1\"><span class=\"toc-item-num\">1.2.1&nbsp;&nbsp;</span>将已有字符串转换成日期类型数据，使用pandas.to_datetime</a></span></li><li><span><a href=\"#自建一个日期类型的数据-pandas.date_range\" data-toc-modified-id=\"自建一个日期类型的数据-pandas.date_range-1.2.2\"><span class=\"toc-item-num\">1.2.2&nbsp;&nbsp;</span>自建一个日期类型的数据 pandas.date_range</a></span></li><li><span><a href=\"#将原数据转化为时间序列数据\" data-toc-modified-id=\"将原数据转化为时间序列数据-1.2.3\"><span class=\"toc-item-num\">1.2.3&nbsp;&nbsp;</span>将原数据转化为时间序列数据</a></span></li><li><span><a href=\"#时间序列数据用于作图\" data-toc-modified-id=\"时间序列数据用于作图-1.2.4\"><span class=\"toc-item-num\">1.2.4&nbsp;&nbsp;</span>时间序列数据用于作图</a></span></li><li><span><a href=\"#时间序列数据用于数据调用\" data-toc-modified-id=\"时间序列数据用于数据调用-1.2.5\"><span class=\"toc-item-num\">1.2.5&nbsp;&nbsp;</span>时间序列数据用于数据调用</a></span></li><li><span><a href=\"#时间序列数据resample\" data-toc-modified-id=\"时间序列数据resample-1.2.6\"><span class=\"toc-item-num\">1.2.6&nbsp;&nbsp;</span>时间序列数据resample</a></span></li></ul></li><li><span><a href=\"#面板数据-（Panel-data）\" data-toc-modified-id=\"面板数据-（Panel-data）-1.3\"><span class=\"toc-item-num\">1.3&nbsp;&nbsp;</span>面板数据 （Panel data）</a></span><ul class=\"toc-item\"><li><span><a href=\"#Case1：将住宅投资额转变为panel-data\" data-toc-modified-id=\"Case1：将住宅投资额转变为panel-data-1.3.1\"><span class=\"toc-item-num\">1.3.1&nbsp;&nbsp;</span>Case1：将住宅投资额转变为panel data</a></span></li><li><span><a href=\"#Case2：将商品住宅施工面积读取为panel-data\" data-toc-modified-id=\"Case2：将商品住宅施工面积读取为panel-data-1.3.2\"><span class=\"toc-item-num\">1.3.2&nbsp;&nbsp;</span>Case2：将商品住宅施工面积读取为panel data</a></span></li><li><span><a href=\"#Case3.将上边两个panel-data合并为panel-data集\" data-toc-modified-id=\"Case3.将上边两个panel-data合并为panel-data集-1.3.3\"><span class=\"toc-item-num\">1.3.3&nbsp;&nbsp;</span>Case3.将上边两个panel data合并为panel data集</a></span></li></ul></li></ul></li><li><span><a href=\"#变量类型\" data-toc-modified-id=\"变量类型-2\"><span class=\"toc-item-num\">2&nbsp;&nbsp;</span>变量类型</a></span><ul class=\"toc-item\"><li><span><a href=\"#哑变量\" data-toc-modified-id=\"哑变量-2.1\"><span class=\"toc-item-num\">2.1&nbsp;&nbsp;</span>哑变量</a></span></li><li><span><a href=\"#连续变量离散化\" data-toc-modified-id=\"连续变量离散化-2.2\"><span class=\"toc-item-num\">2.2&nbsp;&nbsp;</span>连续变量离散化</a></span><ul class=\"toc-item\"><li><span><a href=\"#等宽法-pandas.cut()\" data-toc-modified-id=\"等宽法-pandas.cut()-2.2.1\"><span class=\"toc-item-num\">2.2.1&nbsp;&nbsp;</span>等宽法 pandas.cut()</a></span></li><li><span><a href=\"#等频法-pandas.qcut()\" data-toc-modified-id=\"等频法-pandas.qcut()-2.2.2\"><span class=\"toc-item-num\">2.2.2&nbsp;&nbsp;</span>等频法 pandas.qcut()</a></span></li></ul></li></ul></li><li><span><a href=\"#作业2/2\" data-toc-modified-id=\"作业2/2-3\"><span class=\"toc-item-num\">3&nbsp;&nbsp;</span>作业</a></span></li>"
   ]
  },
  {
   "cell_type": "markdown",
   "metadata": {},
   "source": [
    "## 数据类型"
   ]
  },
  {
   "cell_type": "code",
   "execution_count": null,
   "metadata": {},
   "outputs": [],
   "source": [
    "import pandas as pd\n",
    "import numpy as np\n",
    "import matplotlib.pyplot as plt\n",
    "plt.rcParams['font.sans-serif']=['SimHei']\n",
    "plt.rcParams['axes.unicode_minus']=False"
   ]
  },
  {
   "cell_type": "markdown",
   "metadata": {},
   "source": [
    "### 截面数据(Cross-sectional data)"
   ]
  },
  {
   "cell_type": "markdown",
   "metadata": {},
   "source": [
    "横截面数据是指在某一时点收集的不同对象的数据。它对应同一时点上不同空间(对象)所组成的一维数据集合，研究的是某一时点上的某种经济现象，突出空间 (对象)的差异。横截面数据的突出特点就是离散性高。横截面数据体现的是个体的个性，突出个体的差异，通常横截面数据表现的是无规律的而非真正的随机变化。即计量经济学中所谓的“无法观测的异质性”。"
   ]
  },
  {
   "cell_type": "markdown",
   "metadata": {},
   "source": [
    "**举例**\n",
    "2018年中国31个省的GDP数据。（之前的课已经多次演示过）"
   ]
  },
  {
   "cell_type": "code",
   "execution_count": null,
   "metadata": {},
   "outputs": [],
   "source": [
    "gdp=pd.read_csv('GDP.csv',encoding='gbk')\n",
    "gdp"
   ]
  },
  {
   "cell_type": "code",
   "execution_count": null,
   "metadata": {},
   "outputs": [],
   "source": [
    "gdp=gdp.iloc[0,]  #读取名为0的行，转换为Series数据\n",
    "gdp"
   ]
  },
  {
   "cell_type": "code",
   "execution_count": null,
   "metadata": {},
   "outputs": [],
   "source": [
    "type(gdp)"
   ]
  },
  {
   "cell_type": "markdown",
   "metadata": {},
   "source": [
    "以上GDP都是2018年的数据，是一组截面数据。\n",
    "\n",
    "如果各个省份的数据是**不同年份的**，则**不是截面数据**。"
   ]
  },
  {
   "cell_type": "markdown",
   "metadata": {},
   "source": [
    "### 时间序列数据 (Time series data)"
   ]
  },
  {
   "cell_type": "markdown",
   "metadata": {},
   "source": [
    "时间数列是指将某一现象所发生的数量变化，依时间的先后顺序排列，以揭示随着时间的推移，这一现象的发展规律，从而用以预测现象发展的方向及其数量。\n",
    "\n",
    "时间序列即一列均匀分布（每周、每月、每季等等）的数据点。分析时间序列意味着将过去数据分成几部分然后用之于外推。"
   ]
  },
  {
   "cell_type": "markdown",
   "metadata": {},
   "source": [
    "**在使用计量经济学等方法进行时间序列数据的分析时，需要让计算机识别该数据是时间序列数据**。"
   ]
  },
  {
   "cell_type": "markdown",
   "metadata": {},
   "source": [
    "**举例** 上次课作业使用的各省月住宅投资额"
   ]
  },
  {
   "cell_type": "code",
   "execution_count": null,
   "metadata": {},
   "outputs": [],
   "source": [
    "house_invest=pd.read_excel('各省月住宅投资额.xlsx')\n",
    "house_invest"
   ]
  },
  {
   "cell_type": "code",
   "execution_count": null,
   "metadata": {},
   "outputs": [],
   "source": [
    "type(house_invest['日期'][0])"
   ]
  },
  {
   "cell_type": "code",
   "execution_count": null,
   "metadata": {},
   "outputs": [],
   "source": [
    "tianjin=house_invest['天津市']  #取天津市的一列数据\n",
    "tianjin"
   ]
  },
  {
   "cell_type": "code",
   "execution_count": null,
   "metadata": {},
   "outputs": [],
   "source": [
    "tianjin.index=house_invest['日期'] #将日期列作为tianjin的index\n",
    "tianjin"
   ]
  },
  {
   "cell_type": "code",
   "execution_count": null,
   "metadata": {},
   "outputs": [],
   "source": [
    "tianjin.plot()"
   ]
  },
  {
   "cell_type": "code",
   "execution_count": null,
   "metadata": {},
   "outputs": [],
   "source": [
    "type(tianjin.index[0])"
   ]
  },
  {
   "cell_type": "markdown",
   "metadata": {},
   "source": [
    "可以看出，这个index是作为字符串类型操作的"
   ]
  },
  {
   "cell_type": "code",
   "execution_count": null,
   "metadata": {},
   "outputs": [],
   "source": [
    "tianjin.index[0]-tianjin.index[1]  #目前只是字符串，不能做减法运算"
   ]
  },
  {
   "cell_type": "markdown",
   "metadata": {},
   "source": [
    "#### 将已有字符串转换成日期类型数据，使用pandas.to_datetime"
   ]
  },
  {
   "cell_type": "code",
   "execution_count": null,
   "metadata": {},
   "outputs": [],
   "source": [
    "dt = pd.to_datetime(house_invest['日期'], format=\"%Y-%m-%d\") \n",
    "dt"
   ]
  },
  {
   "cell_type": "code",
   "execution_count": null,
   "metadata": {},
   "outputs": [],
   "source": [
    "dt[0]-dt[1]  #转成日期类型后可以按日期计算"
   ]
  },
  {
   "cell_type": "markdown",
   "metadata": {},
   "source": [
    "#### 自建一个日期类型的数据 pandas.date_range"
   ]
  },
  {
   "cell_type": "code",
   "execution_count": null,
   "metadata": {},
   "outputs": [],
   "source": [
    "list(range(10))"
   ]
  },
  {
   "cell_type": "code",
   "execution_count": null,
   "metadata": {},
   "outputs": [],
   "source": [
    "dt1 = pd.date_range(start=\"20000101\", end=\"20200201\", freq=\"MS\")\n",
    "dt1"
   ]
  },
  {
   "cell_type": "markdown",
   "metadata": {},
   "source": [
    "date_range中，freq属性可以接收的参数。还有Y 年的结尾 YS 年的开始\n",
    "![data_range中，freq属性可以接收的参数](data_freq.jpg)"
   ]
  },
  {
   "cell_type": "markdown",
   "metadata": {},
   "source": [
    "可以和python的range功能，numpy.arange等类似"
   ]
  },
  {
   "cell_type": "markdown",
   "metadata": {},
   "source": [
    "#### 将原数据转化为时间序列数据"
   ]
  },
  {
   "cell_type": "code",
   "execution_count": null,
   "metadata": {
    "scrolled": true
   },
   "outputs": [],
   "source": [
    "beijing=house_invest['北京市']\n",
    "beijing"
   ]
  },
  {
   "cell_type": "markdown",
   "metadata": {},
   "source": [
    "可以给其添加日期作为index"
   ]
  },
  {
   "cell_type": "code",
   "execution_count": null,
   "metadata": {},
   "outputs": [],
   "source": [
    "beijing.index=dt1\n",
    "beijing.index"
   ]
  },
  {
   "cell_type": "code",
   "execution_count": null,
   "metadata": {},
   "outputs": [],
   "source": [
    "beijing.index=dt\n",
    "beijing.index"
   ]
  },
  {
   "cell_type": "markdown",
   "metadata": {},
   "source": [
    "上边两种index的区别在于freq是否有值"
   ]
  },
  {
   "cell_type": "markdown",
   "metadata": {},
   "source": [
    "#### 时间序列数据用于作图"
   ]
  },
  {
   "cell_type": "code",
   "execution_count": null,
   "metadata": {
    "scrolled": true
   },
   "outputs": [],
   "source": [
    "beijing.plot()"
   ]
  },
  {
   "cell_type": "code",
   "execution_count": null,
   "metadata": {},
   "outputs": [],
   "source": [
    "tianjin.plot()"
   ]
  },
  {
   "cell_type": "markdown",
   "metadata": {},
   "source": [
    "**通过对比可以看出，时间序列数据作图时，会自动从较早的时间开始画**"
   ]
  },
  {
   "cell_type": "code",
   "execution_count": null,
   "metadata": {},
   "outputs": [],
   "source": [
    "date=[201904,200801,200203,201507,202001,201009]\n",
    "example=pd.Series(np.random.rand(len(date)),index=date)\n",
    "example"
   ]
  },
  {
   "cell_type": "code",
   "execution_count": null,
   "metadata": {},
   "outputs": [],
   "source": [
    "example.plot()"
   ]
  },
  {
   "cell_type": "code",
   "execution_count": null,
   "metadata": {},
   "outputs": [],
   "source": [
    "example.index=pd.to_datetime(example.index, format=\"%Y%m\") "
   ]
  },
  {
   "cell_type": "code",
   "execution_count": null,
   "metadata": {},
   "outputs": [],
   "source": [
    "example.index"
   ]
  },
  {
   "cell_type": "code",
   "execution_count": null,
   "metadata": {},
   "outputs": [],
   "source": [
    "example.plot()"
   ]
  },
  {
   "cell_type": "markdown",
   "metadata": {},
   "source": [
    "**通过上面例子可以看出，即使数据中时间的顺序是乱序的，作图时也会按顺序绘制**"
   ]
  },
  {
   "cell_type": "markdown",
   "metadata": {},
   "source": [
    "#### 时间序列数据用于数据调用"
   ]
  },
  {
   "cell_type": "code",
   "execution_count": null,
   "metadata": {},
   "outputs": [],
   "source": [
    "beijing"
   ]
  },
  {
   "cell_type": "code",
   "execution_count": null,
   "metadata": {},
   "outputs": [],
   "source": [
    "beijing['2015']"
   ]
  },
  {
   "cell_type": "code",
   "execution_count": null,
   "metadata": {},
   "outputs": [],
   "source": [
    "beijing['2017-07']"
   ]
  },
  {
   "cell_type": "code",
   "execution_count": null,
   "metadata": {},
   "outputs": [],
   "source": [
    "beijing['2018':'2010']  ##可以切片"
   ]
  },
  {
   "cell_type": "markdown",
   "metadata": {},
   "source": [
    "**切片时注意顺序冒号左右两个index的顺序，不是按时间的顺序，而是按其在series中排位的先后**"
   ]
  },
  {
   "cell_type": "code",
   "execution_count": null,
   "metadata": {},
   "outputs": [],
   "source": [
    "beijing['2010':'2018']  ##否则切片结果为空"
   ]
  },
  {
   "cell_type": "markdown",
   "metadata": {},
   "source": [
    "#### 时间序列数据resample"
   ]
  },
  {
   "cell_type": "code",
   "execution_count": null,
   "metadata": {},
   "outputs": [],
   "source": [
    "beijing.resample('YS').sum()    #YS表示年的开始（1月1日），Y表示年的末尾(12月31日),但统计的内容时一样的"
   ]
  },
  {
   "cell_type": "code",
   "execution_count": null,
   "metadata": {},
   "outputs": [],
   "source": [
    "beijing.resample('3YS').sum()  #可以添加整数，表示多少年、多少月"
   ]
  },
  {
   "cell_type": "code",
   "execution_count": null,
   "metadata": {},
   "outputs": [],
   "source": [
    "beijing.resample('3MS').sum()  #每3个月"
   ]
  },
  {
   "cell_type": "markdown",
   "metadata": {},
   "source": [
    "###  面板数据 （Panel data）"
   ]
  },
  {
   "cell_type": "markdown",
   "metadata": {},
   "source": [
    "   面板数据是指在时间序列上取多个截面，在这些截面上同时选取样本观测值所构成的样本数据。\n",
    "\n",
    "   其有**时间序列和截面两个维度**，当这类数据按两个维度排列时，是排在一个平面上，与只有一个维度的数据排在一条线上有着明显的不同，整个表格像是一个面板，所以把panel data译作“面板数据”。但是，如果从其内在含义上讲，把panel data译为“时间序列—截面数据”（TimeS eries-Cross Section）更能揭示这类数据的本质上的特点。"
   ]
  },
  {
   "cell_type": "markdown",
   "metadata": {},
   "source": [
    "#### Case1：将住宅投资额转变为panel data"
   ]
  },
  {
   "cell_type": "code",
   "execution_count": null,
   "metadata": {
    "scrolled": true
   },
   "outputs": [],
   "source": [
    "house_invest"
   ]
  },
  {
   "cell_type": "code",
   "execution_count": null,
   "metadata": {},
   "outputs": [],
   "source": [
    "house_invest.index=house_invest['日期']\n",
    "print(house_invest.head())\n",
    "print(type(house_invest.index))"
   ]
  },
  {
   "cell_type": "markdown",
   "metadata": {},
   "source": [
    "**我们将其日期列转成index，需要注意的是，此时日期列只是普通的文本，并不是日期数据类型。**"
   ]
  },
  {
   "cell_type": "code",
   "execution_count": null,
   "metadata": {},
   "outputs": [],
   "source": [
    "#house_invest['日期']['2020-2-1']"
   ]
  },
  {
   "cell_type": "markdown",
   "metadata": {},
   "source": [
    "**上面报错可见普通的index下，dataframe不能通过用时间行名来索引得到！**"
   ]
  },
  {
   "cell_type": "code",
   "execution_count": null,
   "metadata": {
    "scrolled": false
   },
   "outputs": [],
   "source": [
    "house_invest.index=dt\n",
    "house_invest.drop('日期',axis=1,inplace=True)\n",
    "house_invest"
   ]
  },
  {
   "cell_type": "markdown",
   "metadata": {},
   "source": [
    "以上，我们用之前转化的日期数据作为新的index"
   ]
  },
  {
   "cell_type": "markdown",
   "metadata": {},
   "source": [
    "**时间序列作为index的好处在panel data（dataframe格式）中也得到了继承**\n",
    "\n",
    "注意：得用.loc，不用的话较新版本的pandas会报错"
   ]
  },
  {
   "cell_type": "code",
   "execution_count": null,
   "metadata": {},
   "outputs": [],
   "source": [
    "house_invest.loc['2019']"
   ]
  },
  {
   "cell_type": "code",
   "execution_count": null,
   "metadata": {},
   "outputs": [],
   "source": [
    "house_invest['北京市']['2019']"
   ]
  },
  {
   "cell_type": "code",
   "execution_count": null,
   "metadata": {
    "scrolled": true
   },
   "outputs": [],
   "source": [
    "house_invest.loc['2019-02-01']"
   ]
  },
  {
   "cell_type": "markdown",
   "metadata": {},
   "source": [
    "**可以发现，使用时间序列index，可以很轻松的在pannel data中切片出一个截面数据**\n",
    "\n",
    "**还可以对时间切片，得到一个子panel data**"
   ]
  },
  {
   "cell_type": "code",
   "execution_count": null,
   "metadata": {},
   "outputs": [],
   "source": [
    "house_invest.loc['2013':'2012']  ##注意切片时，冒号左边的要比冒号右边的行靠上，而不是代表的时间考前"
   ]
  },
  {
   "cell_type": "markdown",
   "metadata": {},
   "source": [
    "#### Case2：将商品住宅施工面积读取为panel data"
   ]
  },
  {
   "cell_type": "code",
   "execution_count": null,
   "metadata": {},
   "outputs": [],
   "source": [
    "house_construct=pd.read_excel('商品住宅施工面积.xlsx',index_col=0)\n",
    "house_construct"
   ]
  },
  {
   "cell_type": "code",
   "execution_count": null,
   "metadata": {},
   "outputs": [],
   "source": [
    "type(house_construct.index)"
   ]
  },
  {
   "cell_type": "markdown",
   "metadata": {},
   "source": [
    " **可见，pandas在读取数据时可以自动识别时间、日期数据，在其作为index时自动将其转化为DatetimeIndex**"
   ]
  },
  {
   "cell_type": "markdown",
   "metadata": {},
   "source": [
    "#### Case3.将上边两个panel data合并为panel data集"
   ]
  },
  {
   "cell_type": "code",
   "execution_count": null,
   "metadata": {},
   "outputs": [],
   "source": [
    "house=pd.concat([house_invest,house_construct],axis=1,keys=['invest','construct'])  ##axis=1表示横向合并\n",
    "house"
   ]
  },
  {
   "cell_type": "code",
   "execution_count": null,
   "metadata": {
    "scrolled": true
   },
   "outputs": [],
   "source": [
    "house.loc['2018-12-01']"
   ]
  },
  {
   "cell_type": "markdown",
   "metadata": {},
   "source": [
    "横向合并后，列名转为了MultiIndex类型，而新的dataframe的index没有变，仍是合并前的时间序列，其使用方式得到保留。"
   ]
  },
  {
   "cell_type": "code",
   "execution_count": null,
   "metadata": {},
   "outputs": [],
   "source": [
    "house['invest']"
   ]
  },
  {
   "cell_type": "markdown",
   "metadata": {},
   "source": [
    "同时，也可以直接的得到想要的部分数据"
   ]
  },
  {
   "cell_type": "markdown",
   "metadata": {},
   "source": [
    "**纵向合并将不能直接通过时间获取数据**"
   ]
  },
  {
   "cell_type": "code",
   "execution_count": null,
   "metadata": {},
   "outputs": [],
   "source": [
    "house1=pd.concat([house_invest,house_construct],axis=0,keys=['invest','construct'])  ##axis=0表示纵向合并\n",
    "house1"
   ]
  },
  {
   "cell_type": "code",
   "execution_count": null,
   "metadata": {},
   "outputs": [],
   "source": [
    "house1.loc[('invest','2018-02-01')]  ##使用loc，配合multiindex才可以调用，非常麻烦"
   ]
  },
  {
   "cell_type": "code",
   "execution_count": null,
   "metadata": {},
   "outputs": [],
   "source": [
    "house1.loc['2020']  ##不能使用"
   ]
  },
  {
   "cell_type": "markdown",
   "metadata": {},
   "source": [
    "**因此多组panel data的合并推荐选择横向合并保留时间序列为单独的index！**"
   ]
  },
  {
   "cell_type": "markdown",
   "metadata": {},
   "source": [
    "## 变量类型"
   ]
  },
  {
   "cell_type": "markdown",
   "metadata": {},
   "source": [
    "### 哑变量"
   ]
  },
  {
   "cell_type": "markdown",
   "metadata": {},
   "source": [
    "哑变量（Dummy Variable），也叫虚拟变量，引入哑变量的目的是，将不能够定量处理的变量量化，如职业、性别对收入的影响，战争、自然灾害对GDP的影响，季节对某些产品（如冷饮）销售的影响等等。 这种“量化”通常是通过引入“哑变量”来完成的。根据这些因素的属性类型，构造只取“0”或“1”的人工变量，通常称为哑变量（dummy variables）。"
   ]
  },
  {
   "cell_type": "code",
   "execution_count": null,
   "metadata": {},
   "outputs": [],
   "source": [
    "df = pd.DataFrame({ '性别': ['男', '女', '男'],'国籍':['中国','英国','法国'],'粉丝数':[140,200,300]},index=['张三', '李四', '王五'])\n",
    "df"
   ]
  },
  {
   "cell_type": "code",
   "execution_count": null,
   "metadata": {},
   "outputs": [],
   "source": [
    "pd.get_dummies(df,columns=['国籍'])  #columns可以输入想要做dummy的数据列名"
   ]
  },
  {
   "cell_type": "code",
   "execution_count": null,
   "metadata": {},
   "outputs": [],
   "source": [
    "pd.get_dummies(df)  #不指定列名的话，就给所有可以做的列做做dummy"
   ]
  },
  {
   "cell_type": "markdown",
   "metadata": {},
   "source": [
    "注意，默认情况下，是给非数据的列做dummy,想给数字类型数据的列做，需要指定列名。"
   ]
  },
  {
   "cell_type": "code",
   "execution_count": null,
   "metadata": {},
   "outputs": [],
   "source": [
    "pd.get_dummies(df,columns=['粉丝数'])  "
   ]
  },
  {
   "cell_type": "markdown",
   "metadata": {},
   "source": [
    "### 连续变量离散化"
   ]
  },
  {
   "cell_type": "markdown",
   "metadata": {},
   "source": [
    "#### 等宽法 pandas.cut()\n",
    "\n",
    "例子：对2019年各省的 住宅投资总额/开工面积 进行离散化，看看哪个省份最贵"
   ]
  },
  {
   "cell_type": "code",
   "execution_count": null,
   "metadata": {},
   "outputs": [],
   "source": []
  },
  {
   "cell_type": "code",
   "execution_count": null,
   "metadata": {},
   "outputs": [],
   "source": [
    "house_efficiency_2019=house['invest'].loc['2019'].sum()/(house['construct'].loc['2019'].sum())*10000\n",
    "#获取2019年12个月的数据，并对其进行纵向求和。最后乘以1万，将单位从万元/平米转变为元/平米\n",
    "house_efficiency_2019"
   ]
  },
  {
   "cell_type": "code",
   "execution_count": null,
   "metadata": {},
   "outputs": [],
   "source": [
    "pd.cut(house_efficiency_2019,3)  #将house_invest_2019等间隔分为3类"
   ]
  },
  {
   "cell_type": "code",
   "execution_count": null,
   "metadata": {},
   "outputs": [],
   "source": [
    "cut1=pd.cut(house_efficiency_2019,3,labels=['便宜','中','贵']) \n",
    "cut1"
   ]
  },
  {
   "cell_type": "markdown",
   "metadata": {},
   "source": [
    "将原数据和分类结果组合到一起"
   ]
  },
  {
   "cell_type": "code",
   "execution_count": null,
   "metadata": {},
   "outputs": [],
   "source": [
    "a=pd.DataFrame({'效率':house_efficiency_2019,'cut':cut1})\n",
    "a"
   ]
  },
  {
   "cell_type": "markdown",
   "metadata": {},
   "source": [
    "用透视表看看各个分类的有几个省份"
   ]
  },
  {
   "cell_type": "code",
   "execution_count": null,
   "metadata": {},
   "outputs": [],
   "source": [
    "pt=pd.pivot_table(a,index='cut',aggfunc=len)\n",
    "pt"
   ]
  },
  {
   "cell_type": "markdown",
   "metadata": {},
   "source": [
    "想看看贵的有哪几个?"
   ]
  },
  {
   "cell_type": "code",
   "execution_count": null,
   "metadata": {},
   "outputs": [],
   "source": [
    "a.loc[a['cut']=='贵']  #实质是运用了bool值数组来读取"
   ]
  },
  {
   "cell_type": "markdown",
   "metadata": {},
   "source": [
    "#### 等频法 pandas.qcut()"
   ]
  },
  {
   "cell_type": "code",
   "execution_count": null,
   "metadata": {},
   "outputs": [],
   "source": [
    "cut2=pd.qcut(house_efficiency_2019,3,labels=['便宜','中','贵'])\n",
    "cut2"
   ]
  },
  {
   "cell_type": "code",
   "execution_count": null,
   "metadata": {},
   "outputs": [],
   "source": [
    "b=pd.DataFrame({'效率':house_efficiency_2019,'cut':cut2})\n",
    "b.groupby('cut').count()"
   ]
  },
  {
   "cell_type": "markdown",
   "metadata": {},
   "source": [
    "## 作业\n",
    "\n",
    "1. 求出31个省份2000-2019年每年的 住宅投资效率（单位：元/平方米）=住宅投资额（单位：亿元）/住宅投资面积（单位：万平方米）×10000。并将其以panel data的形式保存到excel中（index是DatetimeIndex类型，collumns是省份名字，值是所求的住宅投资效率值）\n",
    "\n",
    "2. 选择合适的图形绘制北京、天津、上海、重庆四个直辖市的20年住宅投资效率的变化趋势对比图。\n",
    "\n",
    "3. 文字简单描述2中图片可以得出的分析结果。\n",
    "\n",
    "\n",
    "要求：\n",
    "交作业以jupyter notebook的形式，文字也以markdown的形式写在里边即可。\n",
    "\n",
    "本周日（4.4）24：00前发送到我的邮箱，wangge@ncepu.edu.cn\n",
    "\n",
    "周一提到的附加作业：画图时使用seaborn包有额外加分"
   ]
  }
 ],
 "metadata": {
  "file_extension": ".py",
  "kernelspec": {
   "display_name": "Python 3.7.6 64-bit ('base')",
   "language": "python",
   "name": "python37664bitbase8342e280277a4fe89202f2e0b8eaf7bb"
  },
  "language_info": {
   "codemirror_mode": {
    "name": "ipython",
    "version": 3
   },
   "file_extension": ".py",
   "mimetype": "text/x-python",
   "name": "python",
   "nbconvert_exporter": "python",
   "pygments_lexer": "ipython3",
   "version": "3.7.6"
  },
  "mimetype": "text/x-python",
  "name": "python",
  "npconvert_exporter": "python",
  "pygments_lexer": "ipython3",
  "toc": {
   "base_numbering": 1,
   "nav_menu": {
    "height": "200px",
    "width": "407px"
   },
   "number_sections": true,
   "sideBar": true,
   "skip_h1_title": true,
   "title_cell": "Table of Contents",
   "title_sidebar": "Contents",
   "toc_cell": true,
   "toc_position": {},
   "toc_section_display": true,
   "toc_window_display": false
  },
  "version": 3
 },
 "nbformat": 4,
 "nbformat_minor": 2
}
