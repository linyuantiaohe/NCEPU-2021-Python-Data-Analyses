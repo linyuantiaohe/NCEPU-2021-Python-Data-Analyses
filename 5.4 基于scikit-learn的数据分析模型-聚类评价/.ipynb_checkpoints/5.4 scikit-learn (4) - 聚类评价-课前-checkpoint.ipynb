{
 "cells": [
  {
   "cell_type": "markdown",
   "metadata": {},
   "source": [
    "# 基于scikit-learn的数据分析模型（4）- 聚类评价和参数选择"
   ]
  },
  {
   "cell_type": "code",
   "execution_count": null,
   "metadata": {},
   "outputs": [],
   "source": [
    "import pandas as pd\n",
    "import numpy as np\n",
    "import matplotlib.pyplot as plt\n",
    "plt.rcParams['font.sans-serif']=['SimHei']\n",
    "plt.rcParams['axes.unicode_minus']=False\n",
    "from sklearn.svm import SVC #从sklearn的SVM模型中导入SVC方法\n",
    "from sklearn.cluster import KMeans\n",
    "from sklearn.cluster import MeanShift, estimate_bandwidth\n",
    "import joblib"
   ]
  },
  {
   "cell_type": "markdown",
   "metadata": {},
   "source": [
    "## 1.多维（multi-feature）数据的聚类和可视化\n",
    "\n",
    "以游戏三国志13中的武将为样本。武将属性数据来源：https://www.sanguogame.com.cn/san13/gl/5148.html"
   ]
  },
  {
   "cell_type": "code",
   "execution_count": null,
   "metadata": {},
   "outputs": [],
   "source": [
    "sg=pd.read_csv('三国志13武将.csv',index_col=0,encoding='gbk')\n",
    "print(len(sg))\n",
    "sg.head()"
   ]
  },
  {
   "cell_type": "markdown",
   "metadata": {},
   "source": [
    "共700个样本，每个武将有4方面属性：统帅、武力、智力、政治\n",
    "\n",
    "下边进行meanshift聚类"
   ]
  },
  {
   "cell_type": "code",
   "execution_count": null,
   "metadata": {},
   "outputs": [],
   "source": [
    "bandwidth = estimate_bandwidth(sg[['统帅','武力','智力','政治']].values, quantile=0.18, n_samples=len(sg))\n",
    "ms_sg = MeanShift(bandwidth=bandwidth, bin_seeding=True)\n",
    "ms_sg.fit(sg[['统帅','武力','智力','政治']].values)\n",
    "print(\"number of estimated clusters : %d\" % len(ms_sg.cluster_centers_))\n",
    "ms_sg.cluster_centers_"
   ]
  },
  {
   "cell_type": "code",
   "execution_count": null,
   "metadata": {},
   "outputs": [],
   "source": [
    "ms_sg.labels_"
   ]
  },
  {
   "cell_type": "code",
   "execution_count": null,
   "metadata": {},
   "outputs": [],
   "source": [
    "pd.value_counts(ms_sg.labels_)  #利用pandas的value_counts功能，可以数出一个数组中各种元素有多少个"
   ]
  },
  {
   "cell_type": "markdown",
   "metadata": {},
   "source": [
    "发现聚类结果中，编号为4的类只有1个元素，可能是个孤立点。影响聚类结果，可以找到并删去。\n",
    "\n",
    "寻找思路：把4个属性分别以散点图的形式画出来->根据该类的中心点特征找到可能的孤立点\n",
    "\n",
    "Tip：由于本例中，这个分类只有1个点，因此其中心点就是这个点。"
   ]
  },
  {
   "cell_type": "code",
   "execution_count": null,
   "metadata": {
    "scrolled": true
   },
   "outputs": [],
   "source": [
    "fig,ax=plt.subplots(1,4,figsize=(16,4))\n",
    "sg[['统帅','武力','智力','政治']].plot(markersize=2,marker='^',linewidth=0,subplots=True,ax=ax)"
   ]
  },
  {
   "cell_type": "code",
   "execution_count": null,
   "metadata": {},
   "outputs": [],
   "source": [
    "ms_sg.cluster_centers_[4]"
   ]
  },
  {
   "cell_type": "markdown",
   "metadata": {},
   "source": [
    "类别4的中心点特征是统帅值高，图中可以看到统帅图中有一个明显的孤立点，找到并删除它。"
   ]
  },
  {
   "cell_type": "code",
   "execution_count": null,
   "metadata": {},
   "outputs": [],
   "source": [
    "sg[sg['统帅'].ge(140)]"
   ]
  },
  {
   "cell_type": "markdown",
   "metadata": {},
   "source": [
    "发现是何植。并不著名，但统帅特别高，我们需要探究一下其原因。\n",
    "\n",
    "搜索发现是数据有误。https://www.gamersky.com/handbook/201601/711962_8.shtml?ie=utf_8\n",
    "\n",
    "其统帅应该是15。\n",
    "\n",
    "因此，我们将这个错误数据修改过来。"
   ]
  },
  {
   "cell_type": "code",
   "execution_count": null,
   "metadata": {},
   "outputs": [],
   "source": [
    "sg.loc[87,'统帅']=15"
   ]
  },
  {
   "cell_type": "code",
   "execution_count": null,
   "metadata": {},
   "outputs": [],
   "source": [
    "sg.loc[87]"
   ]
  },
  {
   "cell_type": "markdown",
   "metadata": {},
   "source": [
    "用处理完异常值后的数据重新聚类"
   ]
  },
  {
   "cell_type": "code",
   "execution_count": null,
   "metadata": {},
   "outputs": [],
   "source": [
    "bandwidth = estimate_bandwidth(sg[['统帅','武力','智力','政治']].values, quantile=0.18, n_samples=len(sg))\n",
    "ms_newsg = MeanShift(bandwidth=bandwidth, bin_seeding=True)\n",
    "ms_newsg.fit(sg[['统帅','武力','智力','政治']].values)\n",
    "print(\"number of estimated clusters : %d\" % len(ms_newsg.cluster_centers_))\n",
    "ms_newsg.cluster_centers_"
   ]
  },
  {
   "cell_type": "code",
   "execution_count": null,
   "metadata": {},
   "outputs": [],
   "source": [
    "pd.value_counts(ms_newsg.labels_)"
   ]
  },
  {
   "cell_type": "markdown",
   "metadata": {},
   "source": [
    "删掉孤立点后聚出4类来，每一类的数量都不算太少，似乎是结果还不错\n",
    "\n",
    "我们把4类的中心点代表的属性画到图上"
   ]
  },
  {
   "cell_type": "code",
   "execution_count": null,
   "metadata": {},
   "outputs": [],
   "source": [
    "center=pd.DataFrame(ms_newsg.cluster_centers_)\n",
    "center.columns=['统帅','武力','智力','政治']\n",
    "center.plot.bar()"
   ]
  },
  {
   "cell_type": "markdown",
   "metadata": {},
   "source": [
    "可见：\n",
    "- 类0是各方面属性不错，统帅和武力更突出，应该是杰出武将；\n",
    "- 类1是统帅和武力不太行，但智力和政治很高，应该是杰出文官；\n",
    "- 类2是稍差一些的文官\n",
    "- 类3是各方面都不太行，特别是智力不行的草包\n",
    "\n",
    "尝试画出样本的所在类，不同属性画到不同子图"
   ]
  },
  {
   "cell_type": "code",
   "execution_count": null,
   "metadata": {},
   "outputs": [],
   "source": [
    "fig_newsg,ax_newsg=plt.subplots(1,4,figsize=(16,4))\n",
    "ax_newsg[0].scatter(sg.index,sg['统帅'],c=ms_newsg.labels_)\n",
    "ax_newsg[1].scatter(sg.index,sg['武力'],c=ms_newsg.labels_)\n",
    "ax_newsg[2].scatter(sg.index,sg['智力'],c=ms_newsg.labels_)\n",
    "ax_newsg[3].scatter(sg.index,sg['政治'],c=ms_newsg.labels_)"
   ]
  },
  {
   "cell_type": "markdown",
   "metadata": {},
   "source": [
    "样本重叠，不是太容易看清楚，可以把不同类别的样本也画到不同子图中。\n",
    "\n",
    "我们下面画一个类别X属性的图，即行代表属于不同类别，列代表不同的属性。"
   ]
  },
  {
   "cell_type": "code",
   "execution_count": null,
   "metadata": {},
   "outputs": [],
   "source": [
    "sg['label']=ms_newsg.labels_ #将所述类别作为一列数据添加到原数据表中"
   ]
  },
  {
   "cell_type": "code",
   "execution_count": null,
   "metadata": {},
   "outputs": [],
   "source": [
    "fig_newsg_grid,ax_newsg_grid=plt.subplots(len(ms_newsg.cluster_centers_),4,figsize=(16,12),sharey='all')\n",
    "for i in range(len(ms_newsg.cluster_centers_)):\n",
    "    data=sg[sg['label']==i]\n",
    "    ax_newsg_grid[i,0].scatter(data.index,data['统帅'])\n",
    "    ax_newsg_grid[i,1].scatter(data.index,data['武力'])\n",
    "    ax_newsg_grid[i,2].scatter(data.index,data['智力'])\n",
    "    ax_newsg_grid[i,3].scatter(data.index,data['政治'])"
   ]
  },
  {
   "cell_type": "markdown",
   "metadata": {},
   "source": [
    "根据画出的图形，也可以大致得出前述的结论。\n",
    "\n",
    "这种分析，如果应用到产品推广，就是“用户画像”。"
   ]
  },
  {
   "cell_type": "markdown",
   "metadata": {},
   "source": [
    "## 2. 聚类评价\n",
    "\n",
    "引自：https://sklearn.apachecn.org/docs/0.21.3/22.html\n",
    ">度量聚类算法的性能不是简单的统计错误的数量或计算监督分类算法中的 准确率(precision)和 召回率(recall)。 特别地，任何度量指标（evaluation metric）不应该考虑到簇标签的绝对值，而是如果这个聚类方式所分离数据类似于部分真实簇分类 (ground truth set of classes， gorund truth指的是真实值，在这里理解为标准答案)或者满足某些假设，在同于一个相似性度量（similarity metric）之下,使得属于同一个类内的成员比不同类的成员更加类似。\n",
    "\n",
    "聚类评价的标准是组内的对象相互之间是相似的（相关的），而不同组中的对象是不同的（不相关的）。即组内的相似性越大，组间差别越大，聚类效果就越好。sklearn的metrics模块提供的聚类模型评价指标。\n",
    "\n",
    "| 方法名称                    | 真实值 | 最佳值    | sklearn函数                     |\n",
    "|-------------------------|-----|--------|-------------------------------|\n",
    "| ARI评价法（兰德系数）            | 需要  | 1      | adjusted\\_rand\\_score         |\n",
    "| AMI评价法（互信息）             | 需要  | 1      | adjusted\\_mutual\\_info\\_score |\n",
    "| V\\-measure评分            | 需要  | 1      | completeness\\_score           |\n",
    "| FMI评价法                  | 需要  | 1      | fowlkes\\_mallows\\_score       |\n",
    "| 轮廓系数评价法                 | 不需要 | 畸变程度最大 | silhouette\\_score             |\n",
    "| Calinski\\-Harabasz指数评价法 | 不需要 | 相较最大   | calinski\\_harabaz\\_score      |\n",
    "\n",
    "- 上表总共列出了6种评价的方法，其中前4种方法均需要真实值的配合才能够评价聚类算法的优劣，后2种则不需要真实值的配合。但是前4种方法评价的效果更具有说服力，并且在实际运行的过程中在有真实值做参考的情况下，聚类方法的评价可以等同于分类算法的评价。\n",
    "- 除了轮廓系数以外的评价方法，在不考虑业务场景的情况下都是得分越高，其效果越好，最高分值均为1。而轮廓系数则需要判断不同类别数目的情况下其轮廓系数的走势，寻找最优的聚类数目。\n",
    "- 在具备真实值作为参考的情况下，几种方法均可以很好地评估聚类模型。在没有真实值作为参考的时候，轮廓系数评价方法和Calinski-Harabasz指数评价方法可以结合使用。\n",
    "\n",
    "使用方法和原理详见：https://scikit-learn.org/stable/modules/clustering.html#clustering-performance-evaluation\n",
    "\n",
    "本节课我们分别介绍两种，一种是有真实值（groud truth）的情况，一种是没有真实值的情况。"
   ]
  },
  {
   "cell_type": "markdown",
   "metadata": {},
   "source": [
    "### adjusted_rand_score 兰德系数，用于有标准答案的聚类评价\n",
    "\n",
    "**以上节课的idol和nba球员身高体重数据为例**"
   ]
  },
  {
   "cell_type": "code",
   "execution_count": null,
   "metadata": {},
   "outputs": [],
   "source": [
    "girl=pd.read_csv('青春有你2.csv',index_col=0)\n",
    "girl.dropna(inplace=True)\n",
    "boy=pd.read_csv('青春有你1.csv',index_col=0)\n",
    "\n",
    "nba=pd.read_csv('NBA东部联盟球员列表.csv')\n",
    "nba['身高米']=nba['身高米']*100"
   ]
  },
  {
   "cell_type": "code",
   "execution_count": null,
   "metadata": {},
   "outputs": [],
   "source": [
    "a=nba['身高米'].ge(225)\n",
    "nba[a]"
   ]
  },
  {
   "cell_type": "code",
   "execution_count": null,
   "metadata": {},
   "outputs": [],
   "source": [
    "nba.drop(2,axis=0,inplace=True)"
   ]
  },
  {
   "cell_type": "code",
   "execution_count": null,
   "metadata": {},
   "outputs": [],
   "source": [
    "nba_data=nba[['身高米','体重kg']]\n",
    "nba_data.columns=['身高','体重']\n",
    "idolnba=pd.concat((girl,boy,nba_data),axis=0)\n",
    "idolnba"
   ]
  },
  {
   "cell_type": "code",
   "execution_count": null,
   "metadata": {},
   "outputs": [],
   "source": [
    "# 进行聚类\n",
    "bandwidth = estimate_bandwidth(idolnba.values, quantile=0.2, n_samples=len(idolnba))\n",
    "ms_idolnba = MeanShift(bandwidth=bandwidth, bin_seeding=True)\n",
    "ms_idolnba.fit(idolnba.values)\n",
    "print(\"number of estimated clusters : %d\" % len(ms_idolnba.cluster_centers_))\n",
    "fig_idolnba,ax_idolnba=plt.subplots(figsize=(6,6))\n",
    "ax_idolnba.scatter(idolnba['身高'],idolnba['体重'],c=ms_idolnba.labels_)\n",
    "ax_idolnba.scatter(ms_idolnba.cluster_centers_[:,0],ms_idolnba.cluster_centers_[:,1],marker='^',s=100,c='red')"
   ]
  },
  {
   "cell_type": "code",
   "execution_count": null,
   "metadata": {},
   "outputs": [],
   "source": [
    "ms_idolnba.cluster_centers_\n",
    "#根据聚类中心可知，nba球员类是0，女团是1，男团是2"
   ]
  },
  {
   "cell_type": "code",
   "execution_count": null,
   "metadata": {},
   "outputs": [],
   "source": [
    "#构建一个标准答案\n",
    "true_label=[1]*len(girl)+[2]*len(boy)+[0]*len(nba)\n",
    "len(true_label)"
   ]
  },
  {
   "cell_type": "markdown",
   "metadata": {},
   "source": [
    "兰德系数法测量真实标签和聚类得到的标签的相似度"
   ]
  },
  {
   "cell_type": "code",
   "execution_count": null,
   "metadata": {},
   "outputs": [],
   "source": [
    "from sklearn import metrics  #metrics包提供了一系列评价方法"
   ]
  },
  {
   "cell_type": "code",
   "execution_count": null,
   "metadata": {},
   "outputs": [],
   "source": [
    "#调用metrics的兰德系数法adjusted_rand_score。输入参数为两组标签\n",
    "metrics.adjusted_rand_score(ms_idolnba.labels_,true_label)  "
   ]
  },
  {
   "cell_type": "markdown",
   "metadata": {},
   "source": [
    "兰德系数在-1到1之间，负值是不良标签(例如:无关联标签)的得分, 类似的聚类结果有一个正的 ARI 值， 1.0 是完美的匹配得分。\n",
    "\n",
    "得分0.9，表示聚类效果不错。"
   ]
  },
  {
   "cell_type": "markdown",
   "metadata": {},
   "source": [
    "###  Silhouette 系数，用于不知道真实值的情况\n",
    "\n",
    "原理：\n",
    "对每个样本计算：\n",
    "a: 样本与同一类别中所有其他点之间的平均距离。\n",
    "b: 样本与 下一个距离最近的簇 中的所有其他点之间的平均距离。\n",
    "\n",
    "然后将单个样本的 Silhouette 系数 s 给出为:$s = \\frac{b - a}{max(a, b)}$\n",
    "\n",
    "对所有样本的Silhouette 系数求平均，就得到了样本整体的Silhouette 系数。\n",
    "\n",
    "1为最好，-1为最差。0表示有重叠类。\n",
    "\n",
    "参考：https://scikit-learn.org/stable/modules/generated/sklearn.metrics.silhouette_score.html#sklearn.metrics.silhouette_score\n",
    "\n",
    "**仍以idolnba数据聚类为例**"
   ]
  },
  {
   "cell_type": "markdown",
   "metadata": {},
   "source": [
    "**思考**:不知道真实值的时候，评价聚类结果的好坏，有什么用？\n",
    "\n",
    "根据评价结果，选出一个最适合的聚类方法"
   ]
  },
  {
   "cell_type": "code",
   "execution_count": null,
   "metadata": {},
   "outputs": [],
   "source": [
    "#先做一个类数为2的Kmeans聚类\n",
    "km_ni=KMeans(n_clusters=2).fit(idolnba.values)"
   ]
  },
  {
   "cell_type": "code",
   "execution_count": null,
   "metadata": {},
   "outputs": [],
   "source": [
    "#调用metrics的轮廓系数Silhouette_score。输入参数为原始数据，聚类结果标签，距离计算方法（欧几里得距离就是两点间直线距离）\n",
    "ni_score=metrics.silhouette_score(idolnba.values, km_ni.labels_, metric='euclidean')\n",
    "ni_score"
   ]
  },
  {
   "cell_type": "code",
   "execution_count": null,
   "metadata": {},
   "outputs": [],
   "source": [
    "fig_ni,ax_ni=plt.subplots(figsize=(6,6))\n",
    "ax_ni.scatter(idolnba['身高'],idolnba['体重'],c=km_ni.labels_)\n",
    "ax_ni.scatter(km_ni.cluster_centers_[:,0],km_ni.cluster_centers_[:,1],marker='^',s=100,c='red')"
   ]
  },
  {
   "cell_type": "code",
   "execution_count": null,
   "metadata": {},
   "outputs": [],
   "source": [
    "km_ni=KMeans(n_clusters=4).fit(idolnba.values)\n",
    "ni_score=metrics.silhouette_score(idolnba.values, km_ni.labels_, metric='euclidean')\n",
    "fig_ni,ax_ni=plt.subplots(figsize=(6,6))\n",
    "ax_ni.scatter(idolnba['身高'],idolnba['体重'],c=km_ni.labels_)\n",
    "ax_ni.scatter(km_ni.cluster_centers_[:,0],km_ni.cluster_centers_[:,1],marker='^',s=100,c='red')\n",
    "ni_score"
   ]
  },
  {
   "cell_type": "markdown",
   "metadata": {},
   "source": [
    "那么？应该如何选取参数？\n",
    "\n",
    "## 3. 聚类参数的选择-基于最优评价"
   ]
  },
  {
   "cell_type": "code",
   "execution_count": null,
   "metadata": {},
   "outputs": [],
   "source": [
    "for i in np.arange(2,10):\n",
    "    km_ni=KMeans(n_clusters=i).fit(idolnba.values)\n",
    "    ni_score=metrics.silhouette_score(idolnba.values, km_ni.labels_, metric='euclidean')\n",
    "    print('When n_clusters=%d, the silhouette score is: %f'%(i,ni_score))"
   ]
  },
  {
   "cell_type": "markdown",
   "metadata": {},
   "source": [
    "对比基于meanshift方法的聚类得分"
   ]
  },
  {
   "cell_type": "code",
   "execution_count": null,
   "metadata": {},
   "outputs": [],
   "source": [
    "metrics.silhouette_score(idolnba.values, ms_idolnba.labels_, metric='euclidean')"
   ]
  },
  {
   "cell_type": "markdown",
   "metadata": {},
   "source": [
    "#### 同理，在meanshift聚类中，对于半径的选择，也是可以通过循环评分获得较优值\n",
    "\n",
    "以本节课开头的游戏三国志13中的人物属性的聚类为例,我们构建一个聚类然后给出评分的函数,接收参数是分位数的选择。"
   ]
  },
  {
   "cell_type": "code",
   "execution_count": null,
   "metadata": {},
   "outputs": [],
   "source": [
    "def cluste_and_score(quantile_value):\n",
    "    bandwidth = estimate_bandwidth(sg[['统帅','武力','智力','政治']].values, quantile=quantile_value, n_samples=len(sg))\n",
    "    ms_sg_cluster = MeanShift(bandwidth=bandwidth, bin_seeding=True)\n",
    "    ms_sg_cluster.fit(sg[['统帅','武力','智力','政治']].values)\n",
    "    cluster_score=metrics.silhouette_score(sg[['统帅','武力','智力','政治']].values, ms_sg_cluster.labels_, metric='euclidean')\n",
    "    print('quantile_value is %f, the cluster amounts is %d, cluster_score is %f'%(quantile_value,len(ms_sg_cluster.cluster_centers_),cluster_score))"
   ]
  },
  {
   "cell_type": "code",
   "execution_count": null,
   "metadata": {},
   "outputs": [],
   "source": [
    "cluste_and_score(0.3) #quantile选的太大，会造成聚类太粗，只能聚出一类。这样就没有意义了，会报错。0也不行，必须有一点宽度"
   ]
  },
  {
   "cell_type": "markdown",
   "metadata": {},
   "source": [
    "我们大致确认出quantile的取值范围是(0，0.3)开区间"
   ]
  },
  {
   "cell_type": "code",
   "execution_count": null,
   "metadata": {
    "scrolled": true
   },
   "outputs": [],
   "source": [
    "np.arange(0.01,0.3,0.05)"
   ]
  },
  {
   "cell_type": "code",
   "execution_count": null,
   "metadata": {},
   "outputs": [],
   "source": [
    "for i in np.arange(0.01,0.3,0.01):\n",
    "    cluste_and_score(i)"
   ]
  },
  {
   "cell_type": "code",
   "execution_count": null,
   "metadata": {},
   "outputs": [],
   "source": [
    "bandwidth = estimate_bandwidth(sg[['统帅','武力','智力','政治']].values, quantile=0.22, n_samples=len(sg))\n",
    "ms_sg_cluster = MeanShift(bandwidth=bandwidth, bin_seeding=True)\n",
    "ms_sg_cluster.fit(sg[['统帅','武力','智力','政治']].values)\n",
    "center=pd.DataFrame(ms_sg_cluster.cluster_centers_)\n",
    "center.columns=['统帅','武力','智力','政治']\n",
    "center.plot.bar()"
   ]
  },
  {
   "cell_type": "markdown",
   "metadata": {},
   "source": [
    "在评分最高的这种参数选择下，三国志人物被分为了两类，武将和文官"
   ]
  }
 ],
 "metadata": {
  "kernelspec": {
   "display_name": "Python 3",
   "language": "python",
   "name": "python3"
  },
  "language_info": {
   "codemirror_mode": {
    "name": "ipython",
    "version": 3
   },
   "file_extension": ".py",
   "mimetype": "text/x-python",
   "name": "python",
   "nbconvert_exporter": "python",
   "pygments_lexer": "ipython3",
   "version": "3.8.5"
  },
  "latex_envs": {
   "LaTeX_envs_menu_present": true,
   "autoclose": false,
   "autocomplete": true,
   "bibliofile": "biblio.bib",
   "cite_by": "apalike",
   "current_citInitial": 1,
   "eqLabelWithNumbers": true,
   "eqNumInitial": 1,
   "hotkeys": {
    "equation": "Ctrl-E",
    "itemize": "Ctrl-I"
   },
   "labels_anchors": false,
   "latex_user_defs": false,
   "report_style_numbering": false,
   "user_envs_cfg": false
  },
  "toc": {
   "base_numbering": 1,
   "nav_menu": {
    "height": "147px",
    "width": "196px"
   },
   "number_sections": true,
   "sideBar": true,
   "skip_h1_title": true,
   "title_cell": "Table of Contents",
   "title_sidebar": "Contents",
   "toc_cell": true,
   "toc_position": {},
   "toc_section_display": true,
   "toc_window_display": false
  }
 },
 "nbformat": 4,
 "nbformat_minor": 2
}
