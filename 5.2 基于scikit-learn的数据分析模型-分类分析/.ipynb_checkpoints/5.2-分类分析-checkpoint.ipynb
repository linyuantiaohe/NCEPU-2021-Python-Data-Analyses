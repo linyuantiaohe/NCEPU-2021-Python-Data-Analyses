{
 "cells": [
  {
   "cell_type": "markdown",
   "metadata": {},
   "source": [
    "# 5.2 scikit-learn（2）：分类分析"
   ]
  },
  {
   "cell_type": "code",
   "execution_count": 1,
   "metadata": {},
   "outputs": [],
   "source": [
    "import pandas as pd\n",
    "import numpy as np\n",
    "import matplotlib.pyplot as plt\n",
    "plt.rcParams['font.sans-serif']=['SimHei']\n",
    "plt.rcParams['axes.unicode_minus']=False"
   ]
  },
  {
   "cell_type": "markdown",
   "metadata": {
    "toc": true
   },
   "source": [
    "<h1>Table of Contents<span class=\"tocSkip\"></span></h1>\n",
    "<div class=\"toc\"><ul class=\"toc-item\"><li><span><a href=\"#上周作业\" data-toc-modified-id=\"上周作业 -0\"><span class=\"toc-item-num\">0&nbsp;&nbsp;</span>上周作业</a></span></li><li><span><a href=\"#什么是分类分析（classification-analysis）\" data-toc-modified-id=\"什么是分类分析（classification-analysis）-1\"><span class=\"toc-item-num\">1&nbsp;&nbsp;</span>什么是分类分析（classification analysis）</a></span></li><li><span><a href=\"#基于支持向量机（SVM）的分类模型\" data-toc-modified-id=\"基于支持向量机（SVM）的分类模型-2\"><span class=\"toc-item-num\">2&nbsp;&nbsp;</span>基于支持向量机（SVM）的分类模型</a></span></li><li><span><a href=\"#sklearn的线性SVM分类模型实现\" data-toc-modified-id=\"sklearn的线性SVM分类模型实现-3\"><span class=\"toc-item-num\">3&nbsp;&nbsp;</span>sklearn的线性SVM分类模型实现</a></span><ul class=\"toc-item\"><li><span><a href=\"#例1.随机数据的演示\" data-toc-modified-id=\"例1.随机数据的演示-3.1\"><span class=\"toc-item-num\">3.1&nbsp;&nbsp;</span>例1.随机数据的演示</a></span></li><li><span><a href=\"#例-2.-通过身高体重判断男女\" data-toc-modified-id=\"例-2.-通过身高体重判断男女-3.2\"><span class=\"toc-item-num\">3.2&nbsp;&nbsp;</span>例 2. 通过身高体重判断男女</a></span></li></ul></li><li><span><a href=\"#支持向量机的多元分类\" data-toc-modified-id=\"支持向量机的多元分类-4\"><span class=\"toc-item-num\">4&nbsp;&nbsp;</span>支持向量机的多元分类</a></span><ul class=\"toc-item\"><li><span><a href=\"#例子：经纬度坐标的分省\" data-toc-modified-id=\"例子：经纬度坐标的分省-4.1\"><span class=\"toc-item-num\">4.1&nbsp;&nbsp;</span>例子：经纬度坐标的分省</a></span></li><li><span><a href=\"#可以将该模型保存后续使用\" data-toc-modified-id=\"可以将该模型保存后续使用-4.2\"><span class=\"toc-item-num\">4.2&nbsp;&nbsp;</span>可以将该模型保存后续使用</a></span></li></ul></li><li><span><a href=\"#其他分类模型\" data-toc-modified-id=\"其他分类模型-5\"><span class=\"toc-item-num\">5&nbsp;&nbsp;</span>其他分类模型</a></span></li><li><span><a href=\"#作业\" data-toc-modified-id=\"作业-6\"><span class=\"toc-item-num\">6&nbsp;&nbsp;</span>作业</a></span></li></ul></div>"
   ]
  },
  {
   "cell_type": "markdown",
   "metadata": {},
   "source": [
    "## 上周作业"
   ]
  },
  {
   "cell_type": "code",
   "execution_count": 2,
   "metadata": {},
   "outputs": [],
   "source": [
    "from sklearn import linear_model as lm"
   ]
  },
  {
   "cell_type": "code",
   "execution_count": 3,
   "metadata": {},
   "outputs": [
    {
     "data": {
      "text/html": [
       "<div>\n",
       "<style scoped>\n",
       "    .dataframe tbody tr th:only-of-type {\n",
       "        vertical-align: middle;\n",
       "    }\n",
       "\n",
       "    .dataframe tbody tr th {\n",
       "        vertical-align: top;\n",
       "    }\n",
       "\n",
       "    .dataframe thead th {\n",
       "        text-align: right;\n",
       "    }\n",
       "</style>\n",
       "<table border=\"1\" class=\"dataframe\">\n",
       "  <thead>\n",
       "    <tr style=\"text-align: right;\">\n",
       "      <th></th>\n",
       "      <th>选手姓名</th>\n",
       "      <th>国家/地区</th>\n",
       "      <th>身高</th>\n",
       "      <th>体重</th>\n",
       "      <th>经纪公司</th>\n",
       "      <th>Height</th>\n",
       "      <th>Weight</th>\n",
       "    </tr>\n",
       "  </thead>\n",
       "  <tbody>\n",
       "    <tr>\n",
       "      <th>0</th>\n",
       "      <td>爱尔法·金</td>\n",
       "      <td>中国新疆</td>\n",
       "      <td>184cm</td>\n",
       "      <td>65kg</td>\n",
       "      <td>快享星合</td>\n",
       "      <td>184.0</td>\n",
       "      <td>65.0</td>\n",
       "    </tr>\n",
       "    <tr>\n",
       "      <th>1</th>\n",
       "      <td>艾克里里</td>\n",
       "      <td>中国广东</td>\n",
       "      <td>174cm</td>\n",
       "      <td>55kg</td>\n",
       "      <td>领优经纪</td>\n",
       "      <td>174.0</td>\n",
       "      <td>55.0</td>\n",
       "    </tr>\n",
       "    <tr>\n",
       "      <th>2</th>\n",
       "      <td>艾力扎提</td>\n",
       "      <td>中国新疆</td>\n",
       "      <td>178cm</td>\n",
       "      <td>56kg</td>\n",
       "      <td>简单快乐</td>\n",
       "      <td>178.0</td>\n",
       "      <td>56.0</td>\n",
       "    </tr>\n",
       "    <tr>\n",
       "      <th>3</th>\n",
       "      <td>阿煜</td>\n",
       "      <td>中国广东</td>\n",
       "      <td>176cm</td>\n",
       "      <td>57kg</td>\n",
       "      <td>瑾和娱乐</td>\n",
       "      <td>176.0</td>\n",
       "      <td>57.0</td>\n",
       "    </tr>\n",
       "    <tr>\n",
       "      <th>4</th>\n",
       "      <td>白丁</td>\n",
       "      <td>中国四川</td>\n",
       "      <td>177cm</td>\n",
       "      <td>65kg</td>\n",
       "      <td>少城时代</td>\n",
       "      <td>177.0</td>\n",
       "      <td>65.0</td>\n",
       "    </tr>\n",
       "  </tbody>\n",
       "</table>\n",
       "</div>"
      ],
      "text/plain": [
       "    选手姓名 国家/地区     身高    体重  经纪公司  Height  Weight\n",
       "0  爱尔法·金  中国新疆  184cm  65kg  快享星合   184.0    65.0\n",
       "1   艾克里里  中国广东  174cm  55kg  领优经纪   174.0    55.0\n",
       "2   艾力扎提  中国新疆  178cm  56kg  简单快乐   178.0    56.0\n",
       "3     阿煜  中国广东  176cm  57kg  瑾和娱乐   176.0    57.0\n",
       "4     白丁  中国四川  177cm  65kg  少城时代   177.0    65.0"
      ]
     },
     "execution_count": 3,
     "metadata": {},
     "output_type": "execute_result"
    }
   ],
   "source": [
    "data=pd.read_excel('上周作业数据/青春有你3.xlsx')\n",
    "data.head()"
   ]
  },
  {
   "cell_type": "code",
   "execution_count": 4,
   "metadata": {},
   "outputs": [
    {
     "data": {
      "text/plain": [
       "0      184cm\n",
       "1      174cm\n",
       "2      178cm\n",
       "3      176cm\n",
       "4      177cm\n",
       "       ...  \n",
       "114    181cm\n",
       "115    180cm\n",
       "116    176cm\n",
       "117    180cm\n",
       "118    180cm\n",
       "Name: 身高, Length: 119, dtype: object"
      ]
     },
     "execution_count": 4,
     "metadata": {},
     "output_type": "execute_result"
    }
   ],
   "source": [
    "data['身高']"
   ]
  },
  {
   "cell_type": "code",
   "execution_count": 5,
   "metadata": {},
   "outputs": [
    {
     "data": {
      "text/plain": [
       "'184cm'"
      ]
     },
     "execution_count": 5,
     "metadata": {},
     "output_type": "execute_result"
    }
   ],
   "source": [
    "data['身高'][0]"
   ]
  },
  {
   "cell_type": "code",
   "execution_count": 6,
   "metadata": {},
   "outputs": [
    {
     "data": {
      "text/plain": [
       "'1'"
      ]
     },
     "execution_count": 6,
     "metadata": {},
     "output_type": "execute_result"
    }
   ],
   "source": [
    "data['身高'][0][0]"
   ]
  },
  {
   "cell_type": "code",
   "execution_count": 7,
   "metadata": {},
   "outputs": [
    {
     "data": {
      "text/plain": [
       "'184'"
      ]
     },
     "execution_count": 7,
     "metadata": {},
     "output_type": "execute_result"
    }
   ],
   "source": [
    "data['身高'][0][:-2]"
   ]
  },
  {
   "cell_type": "code",
   "execution_count": 8,
   "metadata": {},
   "outputs": [
    {
     "data": {
      "text/plain": [
       "184.0"
      ]
     },
     "execution_count": 8,
     "metadata": {},
     "output_type": "execute_result"
    }
   ],
   "source": [
    "float(data['身高'][0][:-2])"
   ]
  },
  {
   "cell_type": "code",
   "execution_count": 9,
   "metadata": {},
   "outputs": [],
   "source": [
    "H=[]\n",
    "for i in data['身高']:\n",
    "    H.append(float(i[:-2]))"
   ]
  },
  {
   "cell_type": "code",
   "execution_count": 10,
   "metadata": {},
   "outputs": [
    {
     "name": "stdout",
     "output_type": "stream",
     "text": [
      "[184.0, 174.0, 178.0, 176.0, 177.0, 186.0, 183.0, 180.0, 175.0, 184.0, 175.0, 178.0, 179.0, 181.0, 177.0, 186.0, 169.0, 183.0, 187.0, 182.0, 183.0, 180.0, 183.0, 176.0, 183.0, 180.0, 185.0, 178.0, 183.0, 177.0, 183.0, 184.0, 182.0, 186.0, 175.0, 181.0, 175.0, 178.0, 183.0, 176.0, 180.0, 175.0, 180.0, 183.0, 172.5, 180.0, 184.0, 178.0, 174.0, 175.0, 178.5, 185.0, 185.0, 180.0, 185.0, 192.0, 183.0, 183.5, 174.0, 186.0, 186.0, 185.0, 182.0, 178.0, 187.0, 171.0, 176.0, 185.0, 176.0, 184.0, 179.0, 183.0, 175.0, 175.0, 180.0, 181.0, 183.0, 185.0, 176.0, 183.0, 180.0, 178.0, 188.0, 183.0, 180.0, 180.0, 184.5, 187.0, 181.0, 189.0, 178.0, 182.0, 173.0, 182.0, 180.0, 178.0, 184.0, 185.0, 182.0, 188.0, 177.0, 183.0, 178.0, 185.0, 175.0, 180.0, 188.0, 178.0, 181.0, 187.0, 178.0, 183.0, 175.0, 179.0, 181.0, 180.0, 176.0, 180.0, 180.0]\n"
     ]
    }
   ],
   "source": [
    "print(H)"
   ]
  },
  {
   "cell_type": "code",
   "execution_count": 11,
   "metadata": {},
   "outputs": [
    {
     "name": "stdout",
     "output_type": "stream",
     "text": [
      "[65.0, 55.0, 56.0, 57.0, 65.0, 68.0, 60.0, 110.0, 53.8, 70.0, 52.0, 65.0, 56.0, 63.0, 57.0, 72.0, 89.0, 60.0, 68.0, 63.0, 71.0, 58.0, 65.0, 60.0, 65.0, 56.0, 68.0, 56.8, 55.0, 62.5, 62.0, 67.0, 60.0, 75.0, 55.0, 59.0, 59.0, 60.0, 65.5, 62.0, 60.0, 91.0, 65.0, 65.0, 50.0, 65.0, 63.0, 60.0, 58.0, 55.0, 55.0, 67.0, 63.0, 64.0, 66.0, 68.0, 69.0, 63.0, 57.0, 60.0, 60.0, 65.5, 63.0, 59.0, 64.0, 47.0, 57.0, 62.0, 100.0, 42.0, 52.0, 104.0, 63.0, 54.0, 52.5, 63.0, 63.0, 60.0, 55.0, 65.0, 59.8, 60.0, 66.6, 67.5, 58.0, 57.0, 76.0, 68.0, 65.0, 78.0, 63.0, 54.0, 61.0, 75.0, 58.0, 56.0, 62.0, 65.0, 55.0, 76.0, 57.0, 76.0, 60.0, 62.0, 63.5, 60.0, 70.0, 58.0, 60.0, 72.0, 69.0, 69.0, 55.0, 60.0, 65.0, 52.0, 60.0, 60.0, 58.0]\n"
     ]
    }
   ],
   "source": [
    "W=[]\n",
    "for i in data['体重']:\n",
    "    W.append(float(i[:-2]))\n",
    "print(W)"
   ]
  },
  {
   "cell_type": "code",
   "execution_count": 12,
   "metadata": {},
   "outputs": [
    {
     "ename": "ValueError",
     "evalue": "Expected 2D array, got 1D array instead:\narray=[184.  174.  178.  176.  177.  186.  183.  180.  175.  184.  175.  178.\n 179.  181.  177.  186.  169.  183.  187.  182.  183.  180.  183.  176.\n 183.  180.  185.  178.  183.  177.  183.  184.  182.  186.  175.  181.\n 175.  178.  183.  176.  180.  175.  180.  183.  172.5 180.  184.  178.\n 174.  175.  178.5 185.  185.  180.  185.  192.  183.  183.5 174.  186.\n 186.  185.  182.  178.  187.  171.  176.  185.  176.  184.  179.  183.\n 175.  175.  180.  181.  183.  185.  176.  183.  180.  178.  188.  183.\n 180.  180.  184.5 187.  181.  189.  178.  182.  173.  182.  180.  178.\n 184.  185.  182.  188.  177.  183.  178.  185.  175.  180.  188.  178.\n 181.  187.  178.  183.  175.  179.  181.  180.  176.  180.  180. ].\nReshape your data either using array.reshape(-1, 1) if your data has a single feature or array.reshape(1, -1) if it contains a single sample.",
     "output_type": "error",
     "traceback": [
      "\u001b[1;31m---------------------------------------------------------------------------\u001b[0m",
      "\u001b[1;31mValueError\u001b[0m                                Traceback (most recent call last)",
      "\u001b[1;32m<ipython-input-12-90c20ed9c288>\u001b[0m in \u001b[0;36m<module>\u001b[1;34m\u001b[0m\n\u001b[1;32m----> 1\u001b[1;33m \u001b[0mhomework\u001b[0m \u001b[1;33m=\u001b[0m \u001b[0mlm\u001b[0m\u001b[1;33m.\u001b[0m\u001b[0mLinearRegression\u001b[0m\u001b[1;33m(\u001b[0m\u001b[1;33m)\u001b[0m\u001b[1;33m.\u001b[0m\u001b[0mfit\u001b[0m\u001b[1;33m(\u001b[0m\u001b[0mH\u001b[0m\u001b[1;33m,\u001b[0m\u001b[0mW\u001b[0m\u001b[1;33m)\u001b[0m\u001b[1;33m\u001b[0m\u001b[1;33m\u001b[0m\u001b[0m\n\u001b[0m",
      "\u001b[1;32m~\\anaconda3\\lib\\site-packages\\sklearn\\linear_model\\_base.py\u001b[0m in \u001b[0;36mfit\u001b[1;34m(self, X, y, sample_weight)\u001b[0m\n\u001b[0;32m    503\u001b[0m \u001b[1;33m\u001b[0m\u001b[0m\n\u001b[0;32m    504\u001b[0m         \u001b[0mn_jobs_\u001b[0m \u001b[1;33m=\u001b[0m \u001b[0mself\u001b[0m\u001b[1;33m.\u001b[0m\u001b[0mn_jobs\u001b[0m\u001b[1;33m\u001b[0m\u001b[1;33m\u001b[0m\u001b[0m\n\u001b[1;32m--> 505\u001b[1;33m         X, y = self._validate_data(X, y, accept_sparse=['csr', 'csc', 'coo'],\n\u001b[0m\u001b[0;32m    506\u001b[0m                                    y_numeric=True, multi_output=True)\n\u001b[0;32m    507\u001b[0m \u001b[1;33m\u001b[0m\u001b[0m\n",
      "\u001b[1;32m~\\anaconda3\\lib\\site-packages\\sklearn\\base.py\u001b[0m in \u001b[0;36m_validate_data\u001b[1;34m(self, X, y, reset, validate_separately, **check_params)\u001b[0m\n\u001b[0;32m    430\u001b[0m                 \u001b[0my\u001b[0m \u001b[1;33m=\u001b[0m \u001b[0mcheck_array\u001b[0m\u001b[1;33m(\u001b[0m\u001b[0my\u001b[0m\u001b[1;33m,\u001b[0m \u001b[1;33m**\u001b[0m\u001b[0mcheck_y_params\u001b[0m\u001b[1;33m)\u001b[0m\u001b[1;33m\u001b[0m\u001b[1;33m\u001b[0m\u001b[0m\n\u001b[0;32m    431\u001b[0m             \u001b[1;32melse\u001b[0m\u001b[1;33m:\u001b[0m\u001b[1;33m\u001b[0m\u001b[1;33m\u001b[0m\u001b[0m\n\u001b[1;32m--> 432\u001b[1;33m                 \u001b[0mX\u001b[0m\u001b[1;33m,\u001b[0m \u001b[0my\u001b[0m \u001b[1;33m=\u001b[0m \u001b[0mcheck_X_y\u001b[0m\u001b[1;33m(\u001b[0m\u001b[0mX\u001b[0m\u001b[1;33m,\u001b[0m \u001b[0my\u001b[0m\u001b[1;33m,\u001b[0m \u001b[1;33m**\u001b[0m\u001b[0mcheck_params\u001b[0m\u001b[1;33m)\u001b[0m\u001b[1;33m\u001b[0m\u001b[1;33m\u001b[0m\u001b[0m\n\u001b[0m\u001b[0;32m    433\u001b[0m             \u001b[0mout\u001b[0m \u001b[1;33m=\u001b[0m \u001b[0mX\u001b[0m\u001b[1;33m,\u001b[0m \u001b[0my\u001b[0m\u001b[1;33m\u001b[0m\u001b[1;33m\u001b[0m\u001b[0m\n\u001b[0;32m    434\u001b[0m \u001b[1;33m\u001b[0m\u001b[0m\n",
      "\u001b[1;32m~\\anaconda3\\lib\\site-packages\\sklearn\\utils\\validation.py\u001b[0m in \u001b[0;36minner_f\u001b[1;34m(*args, **kwargs)\u001b[0m\n\u001b[0;32m     70\u001b[0m                           FutureWarning)\n\u001b[0;32m     71\u001b[0m         \u001b[0mkwargs\u001b[0m\u001b[1;33m.\u001b[0m\u001b[0mupdate\u001b[0m\u001b[1;33m(\u001b[0m\u001b[1;33m{\u001b[0m\u001b[0mk\u001b[0m\u001b[1;33m:\u001b[0m \u001b[0marg\u001b[0m \u001b[1;32mfor\u001b[0m \u001b[0mk\u001b[0m\u001b[1;33m,\u001b[0m \u001b[0marg\u001b[0m \u001b[1;32min\u001b[0m \u001b[0mzip\u001b[0m\u001b[1;33m(\u001b[0m\u001b[0msig\u001b[0m\u001b[1;33m.\u001b[0m\u001b[0mparameters\u001b[0m\u001b[1;33m,\u001b[0m \u001b[0margs\u001b[0m\u001b[1;33m)\u001b[0m\u001b[1;33m}\u001b[0m\u001b[1;33m)\u001b[0m\u001b[1;33m\u001b[0m\u001b[1;33m\u001b[0m\u001b[0m\n\u001b[1;32m---> 72\u001b[1;33m         \u001b[1;32mreturn\u001b[0m \u001b[0mf\u001b[0m\u001b[1;33m(\u001b[0m\u001b[1;33m**\u001b[0m\u001b[0mkwargs\u001b[0m\u001b[1;33m)\u001b[0m\u001b[1;33m\u001b[0m\u001b[1;33m\u001b[0m\u001b[0m\n\u001b[0m\u001b[0;32m     73\u001b[0m     \u001b[1;32mreturn\u001b[0m \u001b[0minner_f\u001b[0m\u001b[1;33m\u001b[0m\u001b[1;33m\u001b[0m\u001b[0m\n\u001b[0;32m     74\u001b[0m \u001b[1;33m\u001b[0m\u001b[0m\n",
      "\u001b[1;32m~\\anaconda3\\lib\\site-packages\\sklearn\\utils\\validation.py\u001b[0m in \u001b[0;36mcheck_X_y\u001b[1;34m(X, y, accept_sparse, accept_large_sparse, dtype, order, copy, force_all_finite, ensure_2d, allow_nd, multi_output, ensure_min_samples, ensure_min_features, y_numeric, estimator)\u001b[0m\n\u001b[0;32m    793\u001b[0m         \u001b[1;32mraise\u001b[0m \u001b[0mValueError\u001b[0m\u001b[1;33m(\u001b[0m\u001b[1;34m\"y cannot be None\"\u001b[0m\u001b[1;33m)\u001b[0m\u001b[1;33m\u001b[0m\u001b[1;33m\u001b[0m\u001b[0m\n\u001b[0;32m    794\u001b[0m \u001b[1;33m\u001b[0m\u001b[0m\n\u001b[1;32m--> 795\u001b[1;33m     X = check_array(X, accept_sparse=accept_sparse,\n\u001b[0m\u001b[0;32m    796\u001b[0m                     \u001b[0maccept_large_sparse\u001b[0m\u001b[1;33m=\u001b[0m\u001b[0maccept_large_sparse\u001b[0m\u001b[1;33m,\u001b[0m\u001b[1;33m\u001b[0m\u001b[1;33m\u001b[0m\u001b[0m\n\u001b[0;32m    797\u001b[0m                     \u001b[0mdtype\u001b[0m\u001b[1;33m=\u001b[0m\u001b[0mdtype\u001b[0m\u001b[1;33m,\u001b[0m \u001b[0morder\u001b[0m\u001b[1;33m=\u001b[0m\u001b[0morder\u001b[0m\u001b[1;33m,\u001b[0m \u001b[0mcopy\u001b[0m\u001b[1;33m=\u001b[0m\u001b[0mcopy\u001b[0m\u001b[1;33m,\u001b[0m\u001b[1;33m\u001b[0m\u001b[1;33m\u001b[0m\u001b[0m\n",
      "\u001b[1;32m~\\anaconda3\\lib\\site-packages\\sklearn\\utils\\validation.py\u001b[0m in \u001b[0;36minner_f\u001b[1;34m(*args, **kwargs)\u001b[0m\n\u001b[0;32m     70\u001b[0m                           FutureWarning)\n\u001b[0;32m     71\u001b[0m         \u001b[0mkwargs\u001b[0m\u001b[1;33m.\u001b[0m\u001b[0mupdate\u001b[0m\u001b[1;33m(\u001b[0m\u001b[1;33m{\u001b[0m\u001b[0mk\u001b[0m\u001b[1;33m:\u001b[0m \u001b[0marg\u001b[0m \u001b[1;32mfor\u001b[0m \u001b[0mk\u001b[0m\u001b[1;33m,\u001b[0m \u001b[0marg\u001b[0m \u001b[1;32min\u001b[0m \u001b[0mzip\u001b[0m\u001b[1;33m(\u001b[0m\u001b[0msig\u001b[0m\u001b[1;33m.\u001b[0m\u001b[0mparameters\u001b[0m\u001b[1;33m,\u001b[0m \u001b[0margs\u001b[0m\u001b[1;33m)\u001b[0m\u001b[1;33m}\u001b[0m\u001b[1;33m)\u001b[0m\u001b[1;33m\u001b[0m\u001b[1;33m\u001b[0m\u001b[0m\n\u001b[1;32m---> 72\u001b[1;33m         \u001b[1;32mreturn\u001b[0m \u001b[0mf\u001b[0m\u001b[1;33m(\u001b[0m\u001b[1;33m**\u001b[0m\u001b[0mkwargs\u001b[0m\u001b[1;33m)\u001b[0m\u001b[1;33m\u001b[0m\u001b[1;33m\u001b[0m\u001b[0m\n\u001b[0m\u001b[0;32m     73\u001b[0m     \u001b[1;32mreturn\u001b[0m \u001b[0minner_f\u001b[0m\u001b[1;33m\u001b[0m\u001b[1;33m\u001b[0m\u001b[0m\n\u001b[0;32m     74\u001b[0m \u001b[1;33m\u001b[0m\u001b[0m\n",
      "\u001b[1;32m~\\anaconda3\\lib\\site-packages\\sklearn\\utils\\validation.py\u001b[0m in \u001b[0;36mcheck_array\u001b[1;34m(array, accept_sparse, accept_large_sparse, dtype, order, copy, force_all_finite, ensure_2d, allow_nd, ensure_min_samples, ensure_min_features, estimator)\u001b[0m\n\u001b[0;32m    617\u001b[0m             \u001b[1;31m# If input is 1D raise error\u001b[0m\u001b[1;33m\u001b[0m\u001b[1;33m\u001b[0m\u001b[1;33m\u001b[0m\u001b[0m\n\u001b[0;32m    618\u001b[0m             \u001b[1;32mif\u001b[0m \u001b[0marray\u001b[0m\u001b[1;33m.\u001b[0m\u001b[0mndim\u001b[0m \u001b[1;33m==\u001b[0m \u001b[1;36m1\u001b[0m\u001b[1;33m:\u001b[0m\u001b[1;33m\u001b[0m\u001b[1;33m\u001b[0m\u001b[0m\n\u001b[1;32m--> 619\u001b[1;33m                 raise ValueError(\n\u001b[0m\u001b[0;32m    620\u001b[0m                     \u001b[1;34m\"Expected 2D array, got 1D array instead:\\narray={}.\\n\"\u001b[0m\u001b[1;33m\u001b[0m\u001b[1;33m\u001b[0m\u001b[0m\n\u001b[0;32m    621\u001b[0m                     \u001b[1;34m\"Reshape your data either using array.reshape(-1, 1) if \"\u001b[0m\u001b[1;33m\u001b[0m\u001b[1;33m\u001b[0m\u001b[0m\n",
      "\u001b[1;31mValueError\u001b[0m: Expected 2D array, got 1D array instead:\narray=[184.  174.  178.  176.  177.  186.  183.  180.  175.  184.  175.  178.\n 179.  181.  177.  186.  169.  183.  187.  182.  183.  180.  183.  176.\n 183.  180.  185.  178.  183.  177.  183.  184.  182.  186.  175.  181.\n 175.  178.  183.  176.  180.  175.  180.  183.  172.5 180.  184.  178.\n 174.  175.  178.5 185.  185.  180.  185.  192.  183.  183.5 174.  186.\n 186.  185.  182.  178.  187.  171.  176.  185.  176.  184.  179.  183.\n 175.  175.  180.  181.  183.  185.  176.  183.  180.  178.  188.  183.\n 180.  180.  184.5 187.  181.  189.  178.  182.  173.  182.  180.  178.\n 184.  185.  182.  188.  177.  183.  178.  185.  175.  180.  188.  178.\n 181.  187.  178.  183.  175.  179.  181.  180.  176.  180.  180. ].\nReshape your data either using array.reshape(-1, 1) if your data has a single feature or array.reshape(1, -1) if it contains a single sample."
     ]
    }
   ],
   "source": [
    "homework = lm.LinearRegression().fit(H,W)"
   ]
  },
  {
   "cell_type": "code",
   "execution_count": 13,
   "metadata": {},
   "outputs": [],
   "source": [
    "homework = lm.LinearRegression().fit(np.array(H).reshape(-1, 1),np.array(W).reshape(-1, 1))"
   ]
  },
  {
   "cell_type": "code",
   "execution_count": 14,
   "metadata": {},
   "outputs": [
    {
     "name": "stdout",
     "output_type": "stream",
     "text": [
      "拟合结果：体重=0.572283×身高-40.102732\n"
     ]
    }
   ],
   "source": [
    "print('拟合结果：体重=%f×身高%f'%(homework.coef_,homework.intercept_))"
   ]
  },
  {
   "cell_type": "code",
   "execution_count": 15,
   "metadata": {},
   "outputs": [
    {
     "data": {
      "text/plain": [
       "Text(0, 0.5, '体重（kg）')"
      ]
     },
     "execution_count": 15,
     "metadata": {},
     "output_type": "execute_result"
    },
    {
     "data": {
      "image/png": "[encoded data removed]",
      "text/plain": [
       "<Figure size 432x288 with 1 Axes>"
      ]
     },
     "metadata": {
      "needs_background": "light"
     },
     "output_type": "display_data"
    }
   ],
   "source": [
    "fig,ax=plt.subplots()\n",
    "ax.scatter(H,W)\n",
    "ax.plot(H,homework.predict(np.array(H).reshape(-1, 1)),c='red')\n",
    "ax.set_xlabel('身高（cm）')\n",
    "ax.set_ylabel('体重（kg）')"
   ]
  },
  {
   "cell_type": "code",
   "execution_count": 16,
   "metadata": {},
   "outputs": [
    {
     "data": {
      "text/plain": [
       "Text(0, 0.5, '体重（kg）')"
      ]
     },
     "execution_count": 16,
     "metadata": {},
     "output_type": "execute_result"
    },
    {
     "data": {
      "image/png": "[encoded data removed]",
      "text/plain": [
       "<Figure size 432x288 with 1 Axes>"
      ]
     },
     "metadata": {
      "needs_background": "light"
     },
     "output_type": "display_data"
    }
   ],
   "source": [
    "xxx=[165,200]\n",
    "fig,ax=plt.subplots()\n",
    "ax.scatter(H,W)\n",
    "ax.plot(xxx,homework.predict(np.array(xxx).reshape(-1, 1)),c='red')\n",
    "ax.set_xlabel('身高（cm）')\n",
    "ax.set_ylabel('体重（kg）')"
   ]
  },
  {
   "cell_type": "markdown",
   "metadata": {},
   "source": [
    "## 什么是分类分析（classification analysis）\n",
    "\n",
    "在机器学习和统计中，分类是基于包含其类别成员资格已知的观察（或实例）的训练数据集来识别新观察所属的一组类别（子群体）中的哪一个的问题。例如，将给定的电子邮件分配给“垃圾邮件”或“非垃圾邮件”类，并根据观察到的患者特征（性别，血压，某些症状的存在或不存在等）为给定患者分配诊断。\n",
    "\n",
    "分类是一个有监督的学习过程，目标数据库中**有哪些类别是已知**的，分类过程需要做的就是把每一条记录归到对应的类别之中。由于必须事先知道各个类别的信息，并且所有待分类的数据条目都默认有对应的类别，因此分类算法也有其局限性，当上述条件无法满足时，我们就需要尝试聚类分析。\n",
    "\n",
    "通常，将各个观察结果分析为一组可量化的属性，不同地称为解释变量或特征。这些属性可以不同地分类（例如，“A”，“B”，“AB”或“O”，对于血型），序数（例如“大”，“中”或“小”），整数值（例如，电子邮件中特定单词的出现次数）或实际值（例如血压的测量值）。\n",
    "\n",
    "实现分类的算法，特别是在具体实现中，被称为分类器。术语“分类器”有时也指由分类算法实现的数学函数，其将输入数据映射到类别。"
   ]
  },
  {
   "cell_type": "markdown",
   "metadata": {},
   "source": [
    "## 基于支持向量机（SVM）的分类模型\n",
    "\n",
    "使用SVM分类，实质是构建与能够使离超平面最近的数据点的到超平面距离最大的超平面。\n",
    "\n",
    "![分类示意图](分类示意图.jpg)\n",
    "参考：[https://zhuanlan.zhihu.com/p/49331510](https://zhuanlan.zhihu.com/p/49331510)"
   ]
  },
  {
   "cell_type": "markdown",
   "metadata": {},
   "source": [
    "## sklearn的线性SVM分类模型实现"
   ]
  },
  {
   "cell_type": "markdown",
   "metadata": {},
   "source": [
    "### 例1.随机数据的演示"
   ]
  },
  {
   "cell_type": "code",
   "execution_count": 17,
   "metadata": {},
   "outputs": [],
   "source": [
    "from sklearn.svm import SVC #从sklearn的SVM模型中导入SVC方法"
   ]
  },
  {
   "cell_type": "markdown",
   "metadata": {},
   "source": [
    "注意：SVC的拟合所需时间是$O(n^2)$的，即时间正比于样本量的平方。如果样本量过大，该方法可行性就很差，可以使用sklearn.svm.LinearSVC 或者 sklearn.linear_model.SGDClassifier 替代\n",
    "\n",
    "参考[https://scikit-learn.org/stable/modules/generated/sklearn.svm.SVC.html#sklearn.svm.SVC](https://scikit-learn.org/stable/modules/generated/sklearn.svm.SVC.html#sklearn.svm.SVC)"
   ]
  },
  {
   "cell_type": "code",
   "execution_count": 18,
   "metadata": {},
   "outputs": [],
   "source": [
    "X0=np.random.rand(100,2)\n",
    "Y0=np.array([0]*100)"
   ]
  },
  {
   "cell_type": "markdown",
   "metadata": {},
   "source": [
    "上边，随机生成一组样本量为100的[0,1]之间的随机二维坐标，并将其分类记为0"
   ]
  },
  {
   "cell_type": "code",
   "execution_count": 19,
   "metadata": {},
   "outputs": [],
   "source": [
    "X1=np.random.rand(100,2)+0.8\n",
    "Y1=np.array([1]*100)"
   ]
  },
  {
   "cell_type": "markdown",
   "metadata": {},
   "source": [
    "上边，随机生成一组样本量为100的[1,2]之间的随机二维坐标，并将其分类记为1\n",
    "\n",
    "下边，我们把这两组数据画在图上"
   ]
  },
  {
   "cell_type": "code",
   "execution_count": 20,
   "metadata": {},
   "outputs": [
    {
     "data": {
      "text/plain": [
       "Text(0.5, 1.0, '(1)全样本')"
      ]
     },
     "execution_count": 20,
     "metadata": {},
     "output_type": "execute_result"
    },
    {
     "data": {
      "image/png": "[encoded data removed]",
      "text/plain": [
       "<Figure size 1152x288 with 4 Axes>"
      ]
     },
     "metadata": {
      "needs_background": "light"
     },
     "output_type": "display_data"
    }
   ],
   "source": [
    "fig,ax=plt.subplots(1,4,figsize=(16,4))\n",
    "ax[0].scatter(X0[:,0],X0[:,1],c='red',label='0')\n",
    "ax[0].scatter(X1[:,0],X1[:,1],c='blue',label='1')\n",
    "ax[0].legend()\n",
    "ax[0].set_title('(1)全样本')"
   ]
  },
  {
   "cell_type": "markdown",
   "metadata": {},
   "source": [
    "下边，我们在这两组样本中各取一半，组成用于机器学习的样本，另一半用于检验。"
   ]
  },
  {
   "cell_type": "code",
   "execution_count": 21,
   "metadata": {},
   "outputs": [],
   "source": [
    "X_study=np.vstack((X0[0:50],X1[0:50]))\n",
    "Y_study=np.hstack((Y0[0:50],Y1[0:50]))\n",
    "X_test=np.vstack((X0[50:],X1[50:]))\n",
    "Y_test=np.hstack((Y0[50:],Y1[50:]))"
   ]
  },
  {
   "cell_type": "markdown",
   "metadata": {},
   "source": [
    "下边，画出用于学习的样本和用于检验的样本"
   ]
  },
  {
   "cell_type": "code",
   "execution_count": 23,
   "metadata": {
    "scrolled": true
   },
   "outputs": [
    {
     "data": {
      "image/png": "[encoded data removed]",
      "text/plain": [
       "<Figure size 1152x288 with 4 Axes>"
      ]
     },
     "execution_count": 23,
     "metadata": {},
     "output_type": "execute_result"
    }
   ],
   "source": [
    "ax[1].scatter(X_study[:,0],X_study[:,1])\n",
    "ax[1].set_title('(2)学习样本')\n",
    "\n",
    "ax[2].cla()\n",
    "ax[2].scatter(X_test[:,0],X_test[:,1])\n",
    "ax[2].set_title('(3)检验样本')\n",
    "fig"
   ]
  },
  {
   "cell_type": "markdown",
   "metadata": {},
   "source": [
    "**构建线性SVM分类模型**"
   ]
  },
  {
   "cell_type": "code",
   "execution_count": 24,
   "metadata": {},
   "outputs": [
    {
     "data": {
      "text/plain": [
       "SVC(kernel='linear')"
      ]
     },
     "execution_count": 24,
     "metadata": {},
     "output_type": "execute_result"
    }
   ],
   "source": [
    "clf = SVC(kernel='linear')  #构建SVC对象，kernel='linear'意为线性模型\n",
    "clf.fit(X_study, Y_study)  #使用fit方法进行拟合"
   ]
  },
  {
   "cell_type": "code",
   "execution_count": 25,
   "metadata": {},
   "outputs": [],
   "source": [
    "Y_predict=clf.predict(X_test) #用构建的模型对检验样本做分类"
   ]
  },
  {
   "cell_type": "markdown",
   "metadata": {},
   "source": [
    "将检验结果画到图上"
   ]
  },
  {
   "cell_type": "code",
   "execution_count": 26,
   "metadata": {},
   "outputs": [
    {
     "data": {
      "image/png": "[encoded data removed]",
      "text/plain": [
       "<Figure size 1152x288 with 4 Axes>"
      ]
     },
     "execution_count": 26,
     "metadata": {},
     "output_type": "execute_result"
    }
   ],
   "source": [
    "ax[3].cla()\n",
    "ax[3].scatter(X_test[:,0],X_test[:,1],c=Y_predict)\n",
    "ax[3].set_title('(4)检验结果')\n",
    "fig"
   ]
  },
  {
   "cell_type": "markdown",
   "metadata": {},
   "source": [
    "同样可以使用score方法对模型进行评价"
   ]
  },
  {
   "cell_type": "code",
   "execution_count": 27,
   "metadata": {},
   "outputs": [
    {
     "data": {
      "text/plain": [
       "0.97"
      ]
     },
     "execution_count": 27,
     "metadata": {},
     "output_type": "execute_result"
    }
   ],
   "source": [
    "clf.score(X_test,Y_test)"
   ]
  },
  {
   "cell_type": "markdown",
   "metadata": {},
   "source": [
    "### 例 2. 通过身高体重判断男女"
   ]
  },
  {
   "cell_type": "code",
   "execution_count": 28,
   "metadata": {},
   "outputs": [],
   "source": [
    "boy1=pd.read_csv('青春有你1.csv',index_col=0)\n",
    "girl=pd.read_csv('青春有你2.csv',index_col=0)\n",
    "boy2=pd.read_excel('青春有你3.xlsx',index_col=0)"
   ]
  },
  {
   "cell_type": "code",
   "execution_count": 29,
   "metadata": {},
   "outputs": [
    {
     "data": {
      "text/html": [
       "<div>\n",
       "<style scoped>\n",
       "    .dataframe tbody tr th:only-of-type {\n",
       "        vertical-align: middle;\n",
       "    }\n",
       "\n",
       "    .dataframe tbody tr th {\n",
       "        vertical-align: top;\n",
       "    }\n",
       "\n",
       "    .dataframe thead th {\n",
       "        text-align: right;\n",
       "    }\n",
       "</style>\n",
       "<table border=\"1\" class=\"dataframe\">\n",
       "  <thead>\n",
       "    <tr style=\"text-align: right;\">\n",
       "      <th></th>\n",
       "      <th>身高</th>\n",
       "      <th>体重</th>\n",
       "    </tr>\n",
       "    <tr>\n",
       "      <th>选手姓名</th>\n",
       "      <th></th>\n",
       "      <th></th>\n",
       "    </tr>\n",
       "  </thead>\n",
       "  <tbody>\n",
       "    <tr>\n",
       "      <th>爱尔法·金</th>\n",
       "      <td>184.0</td>\n",
       "      <td>65.0</td>\n",
       "    </tr>\n",
       "    <tr>\n",
       "      <th>艾克里里</th>\n",
       "      <td>174.0</td>\n",
       "      <td>55.0</td>\n",
       "    </tr>\n",
       "    <tr>\n",
       "      <th>艾力扎提</th>\n",
       "      <td>178.0</td>\n",
       "      <td>56.0</td>\n",
       "    </tr>\n",
       "    <tr>\n",
       "      <th>阿煜</th>\n",
       "      <td>176.0</td>\n",
       "      <td>57.0</td>\n",
       "    </tr>\n",
       "    <tr>\n",
       "      <th>白丁</th>\n",
       "      <td>177.0</td>\n",
       "      <td>65.0</td>\n",
       "    </tr>\n",
       "  </tbody>\n",
       "</table>\n",
       "</div>"
      ],
      "text/plain": [
       "          身高    体重\n",
       "选手姓名              \n",
       "爱尔法·金  184.0  65.0\n",
       "艾克里里   174.0  55.0\n",
       "艾力扎提   178.0  56.0\n",
       "阿煜     176.0  57.0\n",
       "白丁     177.0  65.0"
      ]
     },
     "execution_count": 29,
     "metadata": {},
     "output_type": "execute_result"
    }
   ],
   "source": [
    "boy2.head()"
   ]
  },
  {
   "cell_type": "code",
   "execution_count": 30,
   "metadata": {},
   "outputs": [
    {
     "data": {
      "text/html": [
       "<div>\n",
       "<style scoped>\n",
       "    .dataframe tbody tr th:only-of-type {\n",
       "        vertical-align: middle;\n",
       "    }\n",
       "\n",
       "    .dataframe tbody tr th {\n",
       "        vertical-align: top;\n",
       "    }\n",
       "\n",
       "    .dataframe thead th {\n",
       "        text-align: right;\n",
       "    }\n",
       "</style>\n",
       "<table border=\"1\" class=\"dataframe\">\n",
       "  <thead>\n",
       "    <tr style=\"text-align: right;\">\n",
       "      <th></th>\n",
       "      <th>性别</th>\n",
       "      <th>身高</th>\n",
       "      <th>体重</th>\n",
       "    </tr>\n",
       "  </thead>\n",
       "  <tbody>\n",
       "    <tr>\n",
       "      <th>周杰伦</th>\n",
       "      <td>1</td>\n",
       "      <td>175</td>\n",
       "      <td>70</td>\n",
       "    </tr>\n",
       "    <tr>\n",
       "      <th>刘诗诗</th>\n",
       "      <td>0</td>\n",
       "      <td>165</td>\n",
       "      <td>48</td>\n",
       "    </tr>\n",
       "    <tr>\n",
       "      <th>赵丽颖</th>\n",
       "      <td>0</td>\n",
       "      <td>165</td>\n",
       "      <td>45</td>\n",
       "    </tr>\n",
       "    <tr>\n",
       "      <th>张一山</th>\n",
       "      <td>1</td>\n",
       "      <td>176</td>\n",
       "      <td>55</td>\n",
       "    </tr>\n",
       "    <tr>\n",
       "      <th>郑恺</th>\n",
       "      <td>1</td>\n",
       "      <td>178</td>\n",
       "      <td>73</td>\n",
       "    </tr>\n",
       "  </tbody>\n",
       "</table>\n",
       "</div>"
      ],
      "text/plain": [
       "     性别   身高  体重\n",
       "周杰伦   1  175  70\n",
       "刘诗诗   0  165  48\n",
       "赵丽颖   0  165  45\n",
       "张一山   1  176  55\n",
       "郑恺    1  178  73"
      ]
     },
     "execution_count": 30,
     "metadata": {},
     "output_type": "execute_result"
    }
   ],
   "source": [
    "test=pd.read_csv('待测.csv',index_col=0,encoding='gbk')\n",
    "test.head()"
   ]
  },
  {
   "cell_type": "markdown",
   "metadata": {},
   "source": [
    "将《青春有你》三季选手数据作为学习数据"
   ]
  },
  {
   "cell_type": "code",
   "execution_count": 31,
   "metadata": {},
   "outputs": [],
   "source": [
    "X_boy1=boy1.values\n",
    "X_girl=girl.values\n",
    "X_boy2=boy2.values\n",
    "Y_boy1=np.array([1]*len(boy1))\n",
    "Y_girl=np.array([0]*len(girl))\n",
    "Y_boy2=np.array([1]*len(boy2))"
   ]
  },
  {
   "cell_type": "code",
   "execution_count": 32,
   "metadata": {},
   "outputs": [
    {
     "data": {
      "text/plain": [
       "array([[181. ,  50. ],\n",
       "       [178. ,  60. ],\n",
       "       [175. ,  55. ],\n",
       "       [182. ,  62. ],\n",
       "       [187. ,  65. ],\n",
       "       [180. ,  64. ],\n",
       "       [183. ,  65. ],\n",
       "       [180. ,  58. ],\n",
       "       [187. ,  70. ],\n",
       "       [180. ,  63. ],\n",
       "       [185. ,  68. ],\n",
       "       [178. ,  63. ],\n",
       "       [184. ,  63. ],\n",
       "       [176. ,  63. ],\n",
       "       [178. ,  59. ],\n",
       "       [184. ,  63. ],\n",
       "       [178. ,  60. ],\n",
       "       [183. ,  65. ],\n",
       "       [185. ,  70. ],\n",
       "       [175. ,  62. ],\n",
       "       [180. ,  62. ],\n",
       "       [188. ,  70. ],\n",
       "       [183. ,  58. ],\n",
       "       [188. ,  70. ],\n",
       "       [186. ,  68. ],\n",
       "       [175. ,  59. ],\n",
       "       [181. ,  61. ],\n",
       "       [184. ,  65. ],\n",
       "       [183. ,  69. ],\n",
       "       [183. ,  60. ],\n",
       "       [189. ,  75. ],\n",
       "       [182. ,  65. ],\n",
       "       [178. ,  53.5],\n",
       "       [183. ,  63. ],\n",
       "       [180. ,  62. ],\n",
       "       [179. ,  57. ],\n",
       "       [178. ,  62. ],\n",
       "       [186. ,  75. ],\n",
       "       [174. ,  62. ],\n",
       "       [180. ,  62. ],\n",
       "       [188. ,  76. ],\n",
       "       [180. ,  71.3],\n",
       "       [188. ,  72. ],\n",
       "       [179. ,  61. ],\n",
       "       [182. ,  60. ],\n",
       "       [174. ,  62.5],\n",
       "       [185. ,  65. ],\n",
       "       [183. ,  68. ],\n",
       "       [172. ,  60. ],\n",
       "       [176. ,  60. ],\n",
       "       [180. ,  66. ],\n",
       "       [177. ,  67. ],\n",
       "       [177. ,  64. ],\n",
       "       [175. ,  62. ],\n",
       "       [175. ,  52. ],\n",
       "       [188. ,  68. ],\n",
       "       [167. ,  66. ],\n",
       "       [183. ,  62. ],\n",
       "       [181. ,  61. ],\n",
       "       [180. ,  65. ],\n",
       "       [182. ,  66. ],\n",
       "       [184. ,  62. ],\n",
       "       [177. ,  59. ],\n",
       "       [176. ,  62. ],\n",
       "       [180. ,  58. ],\n",
       "       [175. ,  58. ],\n",
       "       [180. ,  60. ],\n",
       "       [183. ,  69. ],\n",
       "       [177. ,  60. ],\n",
       "       [183. ,  64. ],\n",
       "       [182. ,  73. ],\n",
       "       [184. ,  75. ],\n",
       "       [177. ,  54. ],\n",
       "       [184. ,  64. ],\n",
       "       [185. ,  66. ],\n",
       "       [185. ,  57. ],\n",
       "       [183. ,  65. ],\n",
       "       [182. ,  65. ],\n",
       "       [177. ,  65. ],\n",
       "       [178. ,  62. ],\n",
       "       [178. ,  60. ],\n",
       "       [178. ,  60. ],\n",
       "       [183. ,  66. ],\n",
       "       [180. ,  60. ],\n",
       "       [175. ,  52.5],\n",
       "       [181. ,  65. ],\n",
       "       [180. ,  60. ],\n",
       "       [180. ,  62. ],\n",
       "       [181. ,  65. ],\n",
       "       [176. ,  60. ],\n",
       "       [176. ,  50. ],\n",
       "       [184. ,  68. ],\n",
       "       [175. ,  50. ],\n",
       "       [186. ,  60. ],\n",
       "       [175. ,  50. ],\n",
       "       [183. ,  66. ],\n",
       "       [178. ,  68. ],\n",
       "       [180. ,  66. ],\n",
       "       [184. ,  60. ],\n",
       "       [180. ,  63. ]])"
      ]
     },
     "execution_count": 32,
     "metadata": {},
     "output_type": "execute_result"
    }
   ],
   "source": [
    "X_boy1"
   ]
  },
  {
   "cell_type": "code",
   "execution_count": 33,
   "metadata": {},
   "outputs": [],
   "source": [
    "X_idol_study=np.vstack((X_boy1,X_girl,X_boy2))"
   ]
  },
  {
   "cell_type": "code",
   "execution_count": 34,
   "metadata": {
    "scrolled": false
   },
   "outputs": [
    {
     "data": {
      "text/plain": [
       "array([[181. ,  50. ],\n",
       "       [178. ,  60. ],\n",
       "       [175. ,  55. ],\n",
       "       [182. ,  62. ],\n",
       "       [187. ,  65. ],\n",
       "       [180. ,  64. ],\n",
       "       [183. ,  65. ],\n",
       "       [180. ,  58. ],\n",
       "       [187. ,  70. ],\n",
       "       [180. ,  63. ],\n",
       "       [185. ,  68. ],\n",
       "       [178. ,  63. ],\n",
       "       [184. ,  63. ],\n",
       "       [176. ,  63. ],\n",
       "       [178. ,  59. ],\n",
       "       [184. ,  63. ],\n",
       "       [178. ,  60. ],\n",
       "       [183. ,  65. ],\n",
       "       [185. ,  70. ],\n",
       "       [175. ,  62. ],\n",
       "       [180. ,  62. ],\n",
       "       [188. ,  70. ],\n",
       "       [183. ,  58. ],\n",
       "       [188. ,  70. ],\n",
       "       [186. ,  68. ],\n",
       "       [175. ,  59. ],\n",
       "       [181. ,  61. ],\n",
       "       [184. ,  65. ],\n",
       "       [183. ,  69. ],\n",
       "       [183. ,  60. ],\n",
       "       [189. ,  75. ],\n",
       "       [182. ,  65. ],\n",
       "       [178. ,  53.5],\n",
       "       [183. ,  63. ],\n",
       "       [180. ,  62. ],\n",
       "       [179. ,  57. ],\n",
       "       [178. ,  62. ],\n",
       "       [186. ,  75. ],\n",
       "       [174. ,  62. ],\n",
       "       [180. ,  62. ],\n",
       "       [188. ,  76. ],\n",
       "       [180. ,  71.3],\n",
       "       [188. ,  72. ],\n",
       "       [179. ,  61. ],\n",
       "       [182. ,  60. ],\n",
       "       [174. ,  62.5],\n",
       "       [185. ,  65. ],\n",
       "       [183. ,  68. ],\n",
       "       [172. ,  60. ],\n",
       "       [176. ,  60. ],\n",
       "       [180. ,  66. ],\n",
       "       [177. ,  67. ],\n",
       "       [177. ,  64. ],\n",
       "       [175. ,  62. ],\n",
       "       [175. ,  52. ],\n",
       "       [188. ,  68. ],\n",
       "       [167. ,  66. ],\n",
       "       [183. ,  62. ],\n",
       "       [181. ,  61. ],\n",
       "       [180. ,  65. ],\n",
       "       [182. ,  66. ],\n",
       "       [184. ,  62. ],\n",
       "       [177. ,  59. ],\n",
       "       [176. ,  62. ],\n",
       "       [180. ,  58. ],\n",
       "       [175. ,  58. ],\n",
       "       [180. ,  60. ],\n",
       "       [183. ,  69. ],\n",
       "       [177. ,  60. ],\n",
       "       [183. ,  64. ],\n",
       "       [182. ,  73. ],\n",
       "       [184. ,  75. ],\n",
       "       [177. ,  54. ],\n",
       "       [184. ,  64. ],\n",
       "       [185. ,  66. ],\n",
       "       [185. ,  57. ],\n",
       "       [183. ,  65. ],\n",
       "       [182. ,  65. ],\n",
       "       [177. ,  65. ],\n",
       "       [178. ,  62. ],\n",
       "       [178. ,  60. ],\n",
       "       [178. ,  60. ],\n",
       "       [183. ,  66. ],\n",
       "       [180. ,  60. ],\n",
       "       [175. ,  52.5],\n",
       "       [181. ,  65. ],\n",
       "       [180. ,  60. ],\n",
       "       [180. ,  62. ],\n",
       "       [181. ,  65. ],\n",
       "       [176. ,  60. ],\n",
       "       [176. ,  50. ],\n",
       "       [184. ,  68. ],\n",
       "       [175. ,  50. ],\n",
       "       [186. ,  60. ],\n",
       "       [175. ,  50. ],\n",
       "       [183. ,  66. ],\n",
       "       [178. ,  68. ],\n",
       "       [180. ,  66. ],\n",
       "       [184. ,  60. ],\n",
       "       [180. ,  63. ],\n",
       "       [168. ,  46. ],\n",
       "       [163. ,  43. ],\n",
       "       [173. ,  50. ],\n",
       "       [166. ,  44. ],\n",
       "       [163. ,  44. ],\n",
       "       [164.5,  44. ],\n",
       "       [165. ,  46. ],\n",
       "       [165. ,  46. ],\n",
       "       [159. ,  46. ],\n",
       "       [163. ,  45. ],\n",
       "       [171. ,  51. ],\n",
       "       [166. ,  43. ],\n",
       "       [169. ,  48. ],\n",
       "       [168. ,  46. ],\n",
       "       [166. ,  47. ],\n",
       "       [170. ,  48. ],\n",
       "       [168. ,  48. ],\n",
       "       [168. ,  50. ],\n",
       "       [167. ,  45. ],\n",
       "       [158. ,  44. ],\n",
       "       [162. ,  44. ],\n",
       "       [175. ,  59. ],\n",
       "       [175. ,  58. ],\n",
       "       [173. ,  54. ],\n",
       "       [175. ,  58. ],\n",
       "       [174. ,  51. ],\n",
       "       [174. ,  53. ],\n",
       "       [165. ,  45. ],\n",
       "       [170. ,  47. ],\n",
       "       [165. ,  48. ],\n",
       "       [170. ,  48. ],\n",
       "       [170. ,  49. ],\n",
       "       [168. ,  48. ],\n",
       "       [162. ,  47. ],\n",
       "       [165. ,  48. ],\n",
       "       [168. ,  46. ],\n",
       "       [163. ,  42. ],\n",
       "       [168. ,  47. ],\n",
       "       [168. ,  48. ],\n",
       "       [168. ,  49. ],\n",
       "       [169. ,  46. ],\n",
       "       [173. ,  51.5],\n",
       "       [160. ,  42. ],\n",
       "       [175. ,  50. ],\n",
       "       [159. ,  42. ],\n",
       "       [159. ,  45. ],\n",
       "       [163. ,  44. ],\n",
       "       [167. ,  46. ],\n",
       "       [160. ,  41. ],\n",
       "       [170. ,  48. ],\n",
       "       [170. ,  50. ],\n",
       "       [170. ,  52.5],\n",
       "       [170. ,  50. ],\n",
       "       [163. ,  47. ],\n",
       "       [158. ,  44. ],\n",
       "       [163. ,  46. ],\n",
       "       [162. ,  48. ],\n",
       "       [161. ,  44. ],\n",
       "       [172.6,  49. ],\n",
       "       [164. ,  49. ],\n",
       "       [167. ,  49. ],\n",
       "       [167. ,  43. ],\n",
       "       [167. ,  48. ],\n",
       "       [168. ,  47. ],\n",
       "       [168.8,  48. ],\n",
       "       [168. ,  49. ],\n",
       "       [165. ,  49. ],\n",
       "       [172. ,  52. ],\n",
       "       [161. ,  40. ],\n",
       "       [168. ,  50. ],\n",
       "       [163. ,  45. ],\n",
       "       [168. ,  48.5],\n",
       "       [174. ,  50. ],\n",
       "       [172. ,  48. ],\n",
       "       [168. ,  51. ],\n",
       "       [171. ,  49. ],\n",
       "       [168. ,  48. ],\n",
       "       [162. ,  48. ],\n",
       "       [165. ,  46. ],\n",
       "       [168. ,  48. ],\n",
       "       [172. ,  49. ],\n",
       "       [168. ,  49. ],\n",
       "       [168. ,  48. ],\n",
       "       [172. ,  50. ],\n",
       "       [168. ,  52. ],\n",
       "       [173. ,  48. ],\n",
       "       [168. ,  44. ],\n",
       "       [166. ,  48. ],\n",
       "       [168. ,  49. ],\n",
       "       [168. ,  47. ],\n",
       "       [172. ,  56. ],\n",
       "       [169. ,  52. ],\n",
       "       [172. ,  50. ],\n",
       "       [173. ,  50. ],\n",
       "       [168. ,  47. ],\n",
       "       [169. ,  56. ],\n",
       "       [168. ,  50. ],\n",
       "       [168. ,  47. ],\n",
       "       [163. ,  46. ],\n",
       "       [170. ,  47. ],\n",
       "       [168. ,  55. ],\n",
       "       [165. ,  40. ],\n",
       "       [169. ,  50. ],\n",
       "       [167. ,  52. ],\n",
       "       [158. ,  43. ],\n",
       "       [171. ,  47. ],\n",
       "       [164. ,  46. ],\n",
       "       [164. ,  54. ],\n",
       "       [160. ,  42. ],\n",
       "       [184. ,  65. ],\n",
       "       [174. ,  55. ],\n",
       "       [178. ,  56. ],\n",
       "       [176. ,  57. ],\n",
       "       [177. ,  65. ],\n",
       "       [186. ,  68. ],\n",
       "       [183. ,  60. ],\n",
       "       [180. , 110. ],\n",
       "       [175. ,  53.8],\n",
       "       [184. ,  70. ],\n",
       "       [175. ,  52. ],\n",
       "       [178. ,  65. ],\n",
       "       [179. ,  56. ],\n",
       "       [181. ,  63. ],\n",
       "       [177. ,  57. ],\n",
       "       [186. ,  72. ],\n",
       "       [169. ,  89. ],\n",
       "       [183. ,  60. ],\n",
       "       [187. ,  68. ],\n",
       "       [182. ,  63. ],\n",
       "       [183. ,  71. ],\n",
       "       [180. ,  58. ],\n",
       "       [183. ,  65. ],\n",
       "       [176. ,  60. ],\n",
       "       [183. ,  65. ],\n",
       "       [180. ,  56. ],\n",
       "       [185. ,  68. ],\n",
       "       [178. ,  56.8],\n",
       "       [183. ,  55. ],\n",
       "       [177. ,  62.5],\n",
       "       [183. ,  62. ],\n",
       "       [184. ,  67. ],\n",
       "       [182. ,  60. ],\n",
       "       [186. ,  75. ],\n",
       "       [175. ,  55. ],\n",
       "       [181. ,  59. ],\n",
       "       [175. ,  59. ],\n",
       "       [178. ,  60. ],\n",
       "       [183. ,  65.5],\n",
       "       [176. ,  62. ],\n",
       "       [180. ,  60. ],\n",
       "       [175. ,  91. ],\n",
       "       [180. ,  65. ],\n",
       "       [183. ,  65. ],\n",
       "       [172. ,  50. ],\n",
       "       [180. ,  65. ],\n",
       "       [184. ,  63. ],\n",
       "       [178. ,  60. ],\n",
       "       [174. ,  58. ],\n",
       "       [175. ,  55. ],\n",
       "       [178. ,  55. ],\n",
       "       [185. ,  67. ],\n",
       "       [185. ,  63. ],\n",
       "       [180. ,  64. ],\n",
       "       [185. ,  66. ],\n",
       "       [192. ,  68. ],\n",
       "       [183. ,  69. ],\n",
       "       [183.5,  63. ],\n",
       "       [174. ,  57. ],\n",
       "       [186. ,  60. ],\n",
       "       [186. ,  60. ],\n",
       "       [185. ,  65.5],\n",
       "       [182. ,  63. ],\n",
       "       [178. ,  59. ],\n",
       "       [187. ,  64. ],\n",
       "       [171. ,  47. ],\n",
       "       [176. ,  57. ],\n",
       "       [185. ,  62. ],\n",
       "       [176. , 100. ],\n",
       "       [184. ,  42. ],\n",
       "       [179. ,  52. ],\n",
       "       [183. , 104. ],\n",
       "       [175. ,  63. ],\n",
       "       [175. ,  54. ],\n",
       "       [180. ,  52.5],\n",
       "       [181. ,  63. ],\n",
       "       [183. ,  63. ],\n",
       "       [185. ,  60. ],\n",
       "       [176. ,  55. ],\n",
       "       [183. ,  65. ],\n",
       "       [180. ,  59.8],\n",
       "       [178. ,  60. ],\n",
       "       [188. ,  66.6],\n",
       "       [183. ,  67.5],\n",
       "       [180. ,  58. ],\n",
       "       [180. ,  57. ],\n",
       "       [184. ,  76. ],\n",
       "       [187. ,  68. ],\n",
       "       [181. ,  65. ],\n",
       "       [189. ,  78. ],\n",
       "       [178. ,  63. ],\n",
       "       [182. ,  54. ],\n",
       "       [173. ,  61. ],\n",
       "       [182. ,  75. ],\n",
       "       [180. ,  58. ],\n",
       "       [178. ,  56. ],\n",
       "       [184. ,  62. ],\n",
       "       [185. ,  65. ],\n",
       "       [182. ,  55. ],\n",
       "       [188. ,  76. ],\n",
       "       [177. ,  57. ],\n",
       "       [183. ,  76. ],\n",
       "       [178. ,  60. ],\n",
       "       [185. ,  62. ],\n",
       "       [175. ,  63.5],\n",
       "       [180. ,  60. ],\n",
       "       [188. ,  70. ],\n",
       "       [178. ,  58. ],\n",
       "       [181. ,  60. ],\n",
       "       [187. ,  72. ],\n",
       "       [178. ,  69. ],\n",
       "       [183. ,  69. ],\n",
       "       [175. ,  55. ],\n",
       "       [179. ,  60. ],\n",
       "       [181. ,  65. ],\n",
       "       [180. ,  52. ],\n",
       "       [176. ,  60. ],\n",
       "       [180. ,  60. ],\n",
       "       [180. ,  58. ]])"
      ]
     },
     "execution_count": 34,
     "metadata": {},
     "output_type": "execute_result"
    }
   ],
   "source": [
    "X_idol_study"
   ]
  },
  {
   "cell_type": "code",
   "execution_count": 35,
   "metadata": {},
   "outputs": [],
   "source": [
    "Y_idol_study=np.hstack((Y_boy1,Y_girl,Y_boy2))"
   ]
  },
  {
   "cell_type": "code",
   "execution_count": 36,
   "metadata": {},
   "outputs": [
    {
     "data": {
      "text/plain": [
       "array([1, 1, 1, 1, 1, 1, 1, 1, 1, 1, 1, 1, 1, 1, 1, 1, 1, 1, 1, 1, 1, 1,\n",
       "       1, 1, 1, 1, 1, 1, 1, 1, 1, 1, 1, 1, 1, 1, 1, 1, 1, 1, 1, 1, 1, 1,\n",
       "       1, 1, 1, 1, 1, 1, 1, 1, 1, 1, 1, 1, 1, 1, 1, 1, 1, 1, 1, 1, 1, 1,\n",
       "       1, 1, 1, 1, 1, 1, 1, 1, 1, 1, 1, 1, 1, 1, 1, 1, 1, 1, 1, 1, 1, 1,\n",
       "       1, 1, 1, 1, 1, 1, 1, 1, 1, 1, 1, 1, 0, 0, 0, 0, 0, 0, 0, 0, 0, 0,\n",
       "       0, 0, 0, 0, 0, 0, 0, 0, 0, 0, 0, 0, 0, 0, 0, 0, 0, 0, 0, 0, 0, 0,\n",
       "       0, 0, 0, 0, 0, 0, 0, 0, 0, 0, 0, 0, 0, 0, 0, 0, 0, 0, 0, 0, 0, 0,\n",
       "       0, 0, 0, 0, 0, 0, 0, 0, 0, 0, 0, 0, 0, 0, 0, 0, 0, 0, 0, 0, 0, 0,\n",
       "       0, 0, 0, 0, 0, 0, 0, 0, 0, 0, 0, 0, 0, 0, 0, 0, 0, 0, 0, 0, 0, 0,\n",
       "       0, 0, 0, 0, 0, 0, 0, 0, 0, 0, 0, 1, 1, 1, 1, 1, 1, 1, 1, 1, 1, 1,\n",
       "       1, 1, 1, 1, 1, 1, 1, 1, 1, 1, 1, 1, 1, 1, 1, 1, 1, 1, 1, 1, 1, 1,\n",
       "       1, 1, 1, 1, 1, 1, 1, 1, 1, 1, 1, 1, 1, 1, 1, 1, 1, 1, 1, 1, 1, 1,\n",
       "       1, 1, 1, 1, 1, 1, 1, 1, 1, 1, 1, 1, 1, 1, 1, 1, 1, 1, 1, 1, 1, 1,\n",
       "       1, 1, 1, 1, 1, 1, 1, 1, 1, 1, 1, 1, 1, 1, 1, 1, 1, 1, 1, 1, 1, 1,\n",
       "       1, 1, 1, 1, 1, 1, 1, 1, 1, 1, 1, 1, 1, 1, 1, 1, 1, 1, 1, 1])"
      ]
     },
     "execution_count": 36,
     "metadata": {},
     "output_type": "execute_result"
    }
   ],
   "source": [
    "Y_idol_study"
   ]
  },
  {
   "cell_type": "code",
   "execution_count": 37,
   "metadata": {},
   "outputs": [],
   "source": [
    "X_test=test.values[:,1:] #待检测明星数据\n",
    "Y_test=test.values[:,0]"
   ]
  },
  {
   "cell_type": "code",
   "execution_count": 38,
   "metadata": {},
   "outputs": [],
   "source": [
    "X_test=test[['身高','体重']].values"
   ]
  },
  {
   "cell_type": "code",
   "execution_count": 39,
   "metadata": {},
   "outputs": [],
   "source": [
    "Y_test=test[['性别']].values"
   ]
  },
  {
   "cell_type": "code",
   "execution_count": 40,
   "metadata": {},
   "outputs": [
    {
     "data": {
      "text/plain": [
       "array([[1],\n",
       "       [0],\n",
       "       [0],\n",
       "       [1],\n",
       "       [1],\n",
       "       [0],\n",
       "       [1],\n",
       "       [1],\n",
       "       [1],\n",
       "       [1],\n",
       "       [1],\n",
       "       [0],\n",
       "       [1],\n",
       "       [1],\n",
       "       [1],\n",
       "       [0],\n",
       "       [0],\n",
       "       [0],\n",
       "       [0],\n",
       "       [1]], dtype=int64)"
      ]
     },
     "execution_count": 40,
     "metadata": {},
     "output_type": "execute_result"
    }
   ],
   "source": [
    "Y_test"
   ]
  },
  {
   "cell_type": "markdown",
   "metadata": {},
   "source": [
    "画出学习样本、测样本的分布图"
   ]
  },
  {
   "cell_type": "code",
   "execution_count": 41,
   "metadata": {},
   "outputs": [
    {
     "data": {
      "text/plain": [
       "Text(0.5, 1.0, '(1)学习样本')"
      ]
     },
     "execution_count": 41,
     "metadata": {},
     "output_type": "execute_result"
    },
    {
     "data": {
      "image/png": "[encoded data removed]",
      "text/plain": [
       "<Figure size 1080x360 with 3 Axes>"
      ]
     },
     "metadata": {
      "needs_background": "light"
     },
     "output_type": "display_data"
    }
   ],
   "source": [
    "fig1,ax1=plt.subplots(1,3,figsize=(15,5))\n",
    "studypic=ax1[0].scatter(X_idol_study[:,0],X_idol_study[:,1],c=Y_idol_study)\n",
    "handles, labels = studypic.legend_elements(prop=\"colors\")\n",
    "ax1[0].legend(handles,labels)\n",
    "ax1[0].set_title('(1)学习样本')"
   ]
  },
  {
   "cell_type": "code",
   "execution_count": 42,
   "metadata": {
    "scrolled": false
   },
   "outputs": [
    {
     "data": {
      "image/png": "[encoded data removed]",
      "text/plain": [
       "<Figure size 1080x360 with 3 Axes>"
      ]
     },
     "execution_count": 42,
     "metadata": {},
     "output_type": "execute_result"
    }
   ],
   "source": [
    "testpic=ax1[1].scatter(X_test[:,0],X_test[:,1],c=Y_test)\n",
    "handles, labels = testpic.legend_elements(prop=\"colors\")\n",
    "ax1[1].legend(handles,labels)\n",
    "ax1[1].set_title('(2)检验样本')\n",
    "fig1"
   ]
  },
  {
   "cell_type": "markdown",
   "metadata": {},
   "source": [
    "构建线性SVM模型，应用fit方法进行拟合，得到拟合模型后对待检验样本使用predict方法进行检验"
   ]
  },
  {
   "cell_type": "code",
   "execution_count": 43,
   "metadata": {},
   "outputs": [
    {
     "data": {
      "text/plain": [
       "SVC(kernel='linear')"
      ]
     },
     "execution_count": 43,
     "metadata": {},
     "output_type": "execute_result"
    }
   ],
   "source": [
    "clf_idol = SVC(kernel='linear')  #构建SVC对象，kernel='linear'意为线性模型\n",
    "clf_idol.fit(X_idol_study, Y_idol_study)  #使用fit方法进行拟合"
   ]
  },
  {
   "cell_type": "code",
   "execution_count": 44,
   "metadata": {},
   "outputs": [],
   "source": [
    "Y_idol_predict=clf_idol.predict(X_test) #用构建的模型对检验样本做分类"
   ]
  },
  {
   "cell_type": "markdown",
   "metadata": {},
   "source": [
    "将检验结果画到图中"
   ]
  },
  {
   "cell_type": "code",
   "execution_count": 45,
   "metadata": {},
   "outputs": [
    {
     "data": {
      "image/png": "[encoded data removed]",
      "text/plain": [
       "<Figure size 1080x360 with 3 Axes>"
      ]
     },
     "execution_count": 45,
     "metadata": {},
     "output_type": "execute_result"
    }
   ],
   "source": [
    "exampic=ax1[2].scatter(X_test[:,0],X_test[:,1],c=Y_idol_predict)\n",
    "handles, labels = exampic.legend_elements(prop=\"colors\")\n",
    "ax1[2].legend(handles,labels)\n",
    "ax1[2].set_title('(3)检验结果')\n",
    "fig1"
   ]
  },
  {
   "cell_type": "markdown",
   "metadata": {},
   "source": [
    "应用score方法检验模型效果"
   ]
  },
  {
   "cell_type": "code",
   "execution_count": 46,
   "metadata": {},
   "outputs": [
    {
     "data": {
      "text/plain": [
       "0.9725609756097561"
      ]
     },
     "execution_count": 46,
     "metadata": {},
     "output_type": "execute_result"
    }
   ],
   "source": [
    "clf_idol.score(X_idol_study, Y_idol_study)"
   ]
  },
  {
   "cell_type": "code",
   "execution_count": 47,
   "metadata": {},
   "outputs": [
    {
     "data": {
      "text/plain": [
       "0.95"
      ]
     },
     "execution_count": 47,
     "metadata": {},
     "output_type": "execute_result"
    }
   ],
   "source": [
    "clf_idol.score(X_test,Y_test)"
   ]
  },
  {
   "cell_type": "markdown",
   "metadata": {},
   "source": [
    "## 支持向量机的多元分类\n",
    "\n",
    "SVC 和 NuSVC 为多元分类实现了 “one-against-one” 的方法 (Knerr et al., 1990) 如果 n_class 是类别的数量, 那么 n_class * (n_class - 1) / 2 分类器被重构, 而且每一个从两个类别中训练数据. 为了提供与其他分类器一致的接口, decision_function_shape 选项允许聚合 “one-against-one” 分类器的结果成 (n_samples, n_classes) 的大小到决策函数。\n",
    "\n",
    "来源：[https://sklearn.apachecn.org/docs/0.21.3/5.html](https://sklearn.apachecn.org/docs/0.21.3/5.html)"
   ]
  },
  {
   "cell_type": "markdown",
   "metadata": {},
   "source": [
    "### 例子：经纬度坐标的分省"
   ]
  },
  {
   "cell_type": "markdown",
   "metadata": {},
   "source": [
    "数据文件 县经纬度.csv 包含了全国2200余县市的经纬度和其对应的省份。\n",
    "如下所示，数据文件共有5列，其中最后一列的编号为对应的省的编号。"
   ]
  },
  {
   "cell_type": "code",
   "execution_count": 48,
   "metadata": {},
   "outputs": [
    {
     "data": {
      "text/html": [
       "<div>\n",
       "<style scoped>\n",
       "    .dataframe tbody tr th:only-of-type {\n",
       "        vertical-align: middle;\n",
       "    }\n",
       "\n",
       "    .dataframe tbody tr th {\n",
       "        vertical-align: top;\n",
       "    }\n",
       "\n",
       "    .dataframe thead th {\n",
       "        text-align: right;\n",
       "    }\n",
       "</style>\n",
       "<table border=\"1\" class=\"dataframe\">\n",
       "  <thead>\n",
       "    <tr style=\"text-align: right;\">\n",
       "      <th></th>\n",
       "      <th>省</th>\n",
       "      <th>市县</th>\n",
       "      <th>经度</th>\n",
       "      <th>纬度</th>\n",
       "      <th>编号</th>\n",
       "    </tr>\n",
       "  </thead>\n",
       "  <tbody>\n",
       "    <tr>\n",
       "      <th>0</th>\n",
       "      <td>上海市</td>\n",
       "      <td>上海上海 经度</td>\n",
       "      <td>121.48</td>\n",
       "      <td>31.22</td>\n",
       "      <td>0</td>\n",
       "    </tr>\n",
       "    <tr>\n",
       "      <th>1</th>\n",
       "      <td>上海市</td>\n",
       "      <td>上海嘉定 经度</td>\n",
       "      <td>121.24</td>\n",
       "      <td>31.40</td>\n",
       "      <td>0</td>\n",
       "    </tr>\n",
       "    <tr>\n",
       "      <th>2</th>\n",
       "      <td>上海市</td>\n",
       "      <td>上海宝山 经度</td>\n",
       "      <td>121.48</td>\n",
       "      <td>31.41</td>\n",
       "      <td>0</td>\n",
       "    </tr>\n",
       "    <tr>\n",
       "      <th>3</th>\n",
       "      <td>上海市</td>\n",
       "      <td>上海川沙 经度</td>\n",
       "      <td>121.70</td>\n",
       "      <td>31.19</td>\n",
       "      <td>0</td>\n",
       "    </tr>\n",
       "    <tr>\n",
       "      <th>4</th>\n",
       "      <td>上海市</td>\n",
       "      <td>上海南汇 经度</td>\n",
       "      <td>121.76</td>\n",
       "      <td>31.05</td>\n",
       "      <td>0</td>\n",
       "    </tr>\n",
       "    <tr>\n",
       "      <th>...</th>\n",
       "      <td>...</td>\n",
       "      <td>...</td>\n",
       "      <td>...</td>\n",
       "      <td>...</td>\n",
       "      <td>...</td>\n",
       "    </tr>\n",
       "    <tr>\n",
       "      <th>2255</th>\n",
       "      <td>黑龙江省</td>\n",
       "      <td>黑龙江杜尔伯特 经度</td>\n",
       "      <td>124.44</td>\n",
       "      <td>46.86</td>\n",
       "      <td>32</td>\n",
       "    </tr>\n",
       "    <tr>\n",
       "      <th>2256</th>\n",
       "      <td>黑龙江省</td>\n",
       "      <td>黑龙江加格达奇 经度</td>\n",
       "      <td>124.07</td>\n",
       "      <td>50.42</td>\n",
       "      <td>32</td>\n",
       "    </tr>\n",
       "    <tr>\n",
       "      <th>2257</th>\n",
       "      <td>黑龙江省</td>\n",
       "      <td>黑龙江呼玛 经度</td>\n",
       "      <td>126.60</td>\n",
       "      <td>51.72</td>\n",
       "      <td>32</td>\n",
       "    </tr>\n",
       "    <tr>\n",
       "      <th>2258</th>\n",
       "      <td>黑龙江省</td>\n",
       "      <td>黑龙江塔河 经度</td>\n",
       "      <td>124.70</td>\n",
       "      <td>52.32</td>\n",
       "      <td>32</td>\n",
       "    </tr>\n",
       "    <tr>\n",
       "      <th>2259</th>\n",
       "      <td>黑龙江省</td>\n",
       "      <td>黑龙江漠河 经度</td>\n",
       "      <td>122.37</td>\n",
       "      <td>53.48</td>\n",
       "      <td>32</td>\n",
       "    </tr>\n",
       "  </tbody>\n",
       "</table>\n",
       "<p>2260 rows × 5 columns</p>\n",
       "</div>"
      ],
      "text/plain": [
       "         省          市县      经度     纬度  编号\n",
       "0      上海市     上海上海 经度  121.48  31.22   0\n",
       "1      上海市     上海嘉定 经度  121.24  31.40   0\n",
       "2      上海市     上海宝山 经度  121.48  31.41   0\n",
       "3      上海市     上海川沙 经度  121.70  31.19   0\n",
       "4      上海市     上海南汇 经度  121.76  31.05   0\n",
       "...    ...         ...     ...    ...  ..\n",
       "2255  黑龙江省  黑龙江杜尔伯特 经度  124.44  46.86  32\n",
       "2256  黑龙江省  黑龙江加格达奇 经度  124.07  50.42  32\n",
       "2257  黑龙江省    黑龙江呼玛 经度  126.60  51.72  32\n",
       "2258  黑龙江省    黑龙江塔河 经度  124.70  52.32  32\n",
       "2259  黑龙江省    黑龙江漠河 经度  122.37  53.48  32\n",
       "\n",
       "[2260 rows x 5 columns]"
      ]
     },
     "execution_count": 48,
     "metadata": {},
     "output_type": "execute_result"
    }
   ],
   "source": [
    "xian=pd.read_csv('县经纬度.csv',index_col=0) #导入数据\n",
    "xian"
   ]
  },
  {
   "cell_type": "code",
   "execution_count": 49,
   "metadata": {},
   "outputs": [
    {
     "data": {
      "text/plain": [
       "array(['上海市', '云南省', '其它岛屿省', '内蒙古省', '北京市', '吉林省', '四川省', '天津省',\n",
       "       '宁夏回族自治区省', '安徽省', '山东省', '山西省', '广东省', '广西省', '新疆省', '江苏省', '江西省',\n",
       "       '河北省', '河南省', '浙江省', '海南省', '港澳台省', '湖北省', '湖南省', '甘肃省', '福建省',\n",
       "       '西藏自治区省', '贵州省', '辽宁省', '重庆市', '陕西省', '青海省', '黑龙江省'], dtype=object)"
      ]
     },
     "execution_count": 49,
     "metadata": {},
     "output_type": "execute_result"
    }
   ],
   "source": [
    "xian['省'].unique() #去重，省的顺序，与编号对应，可通过[编号]查询"
   ]
  },
  {
   "cell_type": "code",
   "execution_count": 50,
   "metadata": {},
   "outputs": [
    {
     "data": {
      "text/plain": [
       "'浙江省'"
      ]
     },
     "execution_count": 50,
     "metadata": {},
     "output_type": "execute_result"
    }
   ],
   "source": [
    "xian['省'].unique() [19]"
   ]
  },
  {
   "cell_type": "code",
   "execution_count": 51,
   "metadata": {},
   "outputs": [],
   "source": [
    "province_clf = SVC(gamma='scale', decision_function_shape='ovo')  #可以多元分类的模型"
   ]
  },
  {
   "cell_type": "code",
   "execution_count": 52,
   "metadata": {},
   "outputs": [
    {
     "data": {
      "text/plain": [
       "SVC(decision_function_shape='ovo')"
      ]
     },
     "execution_count": 52,
     "metadata": {},
     "output_type": "execute_result"
    }
   ],
   "source": [
    "province_clf.fit(xian[['经度','纬度']].values,xian['编号'].values)"
   ]
  },
  {
   "cell_type": "markdown",
   "metadata": {},
   "source": [
    "经纬度查询[https://jingweidu.bmcx.com/](https://jingweidu.bmcx.com/)可以查询任意地点的坐标"
   ]
  },
  {
   "cell_type": "code",
   "execution_count": 55,
   "metadata": {},
   "outputs": [
    {
     "data": {
      "text/plain": [
       "array([14], dtype=int64)"
      ]
     },
     "execution_count": 55,
     "metadata": {},
     "output_type": "execute_result"
    }
   ],
   "source": [
    "province_clf.predict([[85.7905911347656,44.01992535652175]])"
   ]
  },
  {
   "cell_type": "code",
   "execution_count": 56,
   "metadata": {},
   "outputs": [
    {
     "data": {
      "text/plain": [
       "'新疆省'"
      ]
     },
     "execution_count": 56,
     "metadata": {},
     "output_type": "execute_result"
    }
   ],
   "source": [
    "xian['省'].unique()[14]"
   ]
  },
  {
   "cell_type": "code",
   "execution_count": 57,
   "metadata": {
    "scrolled": true
   },
   "outputs": [
    {
     "data": {
      "text/plain": [
       "0.5747787610619469"
      ]
     },
     "execution_count": 57,
     "metadata": {},
     "output_type": "execute_result"
    }
   ],
   "source": [
    "province_clf.score(xian[['经度','纬度']].values,xian['编号'].values)"
   ]
  },
  {
   "cell_type": "markdown",
   "metadata": {},
   "source": [
    "### 可以将该模型保存后续使用\n",
    "\n",
    "使用Python的joblib模块的dump和load功能可以在scikit-learn中保存和读取已训练好的模型"
   ]
  },
  {
   "cell_type": "code",
   "execution_count": 58,
   "metadata": {},
   "outputs": [
    {
     "data": {
      "text/plain": [
       "['province_clf.joblib']"
      ]
     },
     "execution_count": 58,
     "metadata": {},
     "output_type": "execute_result"
    }
   ],
   "source": [
    "import joblib\n",
    "joblib.dump(province_clf, 'province_clf.joblib') "
   ]
  },
  {
   "cell_type": "code",
   "execution_count": 59,
   "metadata": {},
   "outputs": [],
   "source": [
    "newmodel=joblib.load('province_clf.joblib') "
   ]
  },
  {
   "cell_type": "code",
   "execution_count": 61,
   "metadata": {},
   "outputs": [
    {
     "data": {
      "text/plain": [
       "array([14], dtype=int64)"
      ]
     },
     "execution_count": 61,
     "metadata": {},
     "output_type": "execute_result"
    }
   ],
   "source": [
    "newmodel.predict([[85.7905911347656,44.01992535652175]])"
   ]
  },
  {
   "cell_type": "code",
   "execution_count": 62,
   "metadata": {},
   "outputs": [
    {
     "data": {
      "text/plain": [
       "'新疆省'"
      ]
     },
     "execution_count": 62,
     "metadata": {},
     "output_type": "execute_result"
    }
   ],
   "source": [
    "xian['省'].unique()[14]"
   ]
  },
  {
   "cell_type": "markdown",
   "metadata": {},
   "source": [
    "## 其他分类模型\n",
    "\n",
    "sklearn提供了多种分类模型，参考[https://scikit-learn.org/stable/auto_examples/classification/plot_classifier_comparison.html#sphx-glr-auto-examples-classification-plot-classifier-comparison-py](https://scikit-learn.org/stable/auto_examples/classification/plot_classifier_comparison.html#sphx-glr-auto-examples-classification-plot-classifier-comparison-py)\n",
    "![classifier_comparison.png](classifier_comparison.png)"
   ]
  },
  {
   "cell_type": "markdown",
   "metadata": {},
   "source": [
    "注：天安门经纬度116.3972282409668,39.90960456049752，以下用于检验模型"
   ]
  },
  {
   "cell_type": "code",
   "execution_count": 63,
   "metadata": {},
   "outputs": [],
   "source": [
    "tiananmen=[116.3972282409668,39.90960456049752]"
   ]
  },
  {
   "cell_type": "code",
   "execution_count": 64,
   "metadata": {},
   "outputs": [
    {
     "data": {
      "text/plain": [
       "array(['河北省'], dtype=object)"
      ]
     },
     "execution_count": 64,
     "metadata": {},
     "output_type": "execute_result"
    }
   ],
   "source": [
    "xian['省'].unique()[province_clf.predict([tiananmen])]"
   ]
  },
  {
   "cell_type": "code",
   "execution_count": 65,
   "metadata": {},
   "outputs": [],
   "source": [
    "from sklearn.gaussian_process import GaussianProcessClassifier\n",
    "from sklearn.gaussian_process.kernels import RBF"
   ]
  },
  {
   "cell_type": "code",
   "execution_count": 66,
   "metadata": {},
   "outputs": [],
   "source": [
    "north=pd.concat([xian[xian['省']=='北京市'],xian[xian['省']=='天津市'],xian[xian['省']=='河北省'],xian[xian['省']=='山西省']],axis=0)"
   ]
  },
  {
   "cell_type": "code",
   "execution_count": 67,
   "metadata": {},
   "outputs": [
    {
     "data": {
      "text/plain": [
       "0.9573643410852714"
      ]
     },
     "execution_count": 67,
     "metadata": {},
     "output_type": "execute_result"
    }
   ],
   "source": [
    "Gaussian_model=GaussianProcessClassifier(1.0 * RBF(1.0)).fit(north[['经度','纬度']].values,north['编号'].values)\n",
    "Gaussian_model.score(north[['经度','纬度']].values,north['编号'].values)"
   ]
  },
  {
   "cell_type": "code",
   "execution_count": 68,
   "metadata": {},
   "outputs": [
    {
     "data": {
      "text/plain": [
       "array(['山西省'], dtype=object)"
      ]
     },
     "execution_count": 68,
     "metadata": {},
     "output_type": "execute_result"
    }
   ],
   "source": [
    "xian['省'].unique()[Gaussian_model.predict([tiananmen])]"
   ]
  },
  {
   "cell_type": "code",
   "execution_count": 69,
   "metadata": {},
   "outputs": [
    {
     "data": {
      "text/plain": [
       "0.9806201550387597"
      ]
     },
     "execution_count": 69,
     "metadata": {},
     "output_type": "execute_result"
    }
   ],
   "source": [
    "RBF_SVM_model=SVC(gamma=2, C=1).fit(north[['经度','纬度']].values,north['编号'].values)\n",
    "RBF_SVM_model.score(north[['经度','纬度']].values,north['编号'].values)"
   ]
  },
  {
   "cell_type": "code",
   "execution_count": 70,
   "metadata": {},
   "outputs": [
    {
     "data": {
      "text/plain": [
       "array(['北京市'], dtype=object)"
      ]
     },
     "execution_count": 70,
     "metadata": {},
     "output_type": "execute_result"
    }
   ],
   "source": [
    "xian['省'].unique()[RBF_SVM_model.predict([tiananmen])]"
   ]
  },
  {
   "cell_type": "markdown",
   "metadata": {},
   "source": [
    "## 作业\n",
    "\n",
    "使用 'NBA东部联盟球员列表.csv' 数据，\n",
    "\n",
    "1. 构建一个自变量为**身高米和体重kg**的分类器，用以判断一个球员的位置是否为**后卫**。（提示：可以使用pandas(4)中介绍的哑变量来处理位置数据，得到是否为后卫的0-1变量）\n",
    "\n",
    "2. 将该分类器用joblib保存为模型文件。\n",
    "\n",
    "3. 作业提交jupyter notebook代码。\n",
    "\n",
    "本次作业与周三作业写在一个notebook里，一起交"
   ]
  },
  {
   "cell_type": "code",
   "execution_count": 71,
   "metadata": {},
   "outputs": [
    {
     "data": {
      "text/html": [
       "<div>\n",
       "<style scoped>\n",
       "    .dataframe tbody tr th:only-of-type {\n",
       "        vertical-align: middle;\n",
       "    }\n",
       "\n",
       "    .dataframe tbody tr th {\n",
       "        vertical-align: top;\n",
       "    }\n",
       "\n",
       "    .dataframe thead th {\n",
       "        text-align: right;\n",
       "    }\n",
       "</style>\n",
       "<table border=\"1\" class=\"dataframe\">\n",
       "  <thead>\n",
       "    <tr style=\"text-align: right;\">\n",
       "      <th></th>\n",
       "      <th>位置</th>\n",
       "      <th>编号</th>\n",
       "      <th>姓名</th>\n",
       "      <th>身高</th>\n",
       "      <th>身高米</th>\n",
       "      <th>体重磅</th>\n",
       "      <th>体重kg</th>\n",
       "      <th>出生日期 (年–月–日)</th>\n",
       "      <th>来自</th>\n",
       "    </tr>\n",
       "  </thead>\n",
       "  <tbody>\n",
       "    <tr>\n",
       "      <th>0</th>\n",
       "      <td>前锋</td>\n",
       "      <td>7</td>\n",
       "      <td>杰伦·布朗</td>\n",
       "      <td>6英尺7英寸</td>\n",
       "      <td>2.01</td>\n",
       "      <td>225磅</td>\n",
       "      <td>102</td>\n",
       "      <td>1996–10–24</td>\n",
       "      <td>加州大学柏克莱分校</td>\n",
       "    </tr>\n",
       "    <tr>\n",
       "      <th>1</th>\n",
       "      <td>后卫</td>\n",
       "      <td>4</td>\n",
       "      <td>科尔森·爱德华</td>\n",
       "      <td>6英尺1英寸</td>\n",
       "      <td>1.85</td>\n",
       "      <td>200磅</td>\n",
       "      <td>91</td>\n",
       "      <td>1998–03–21</td>\n",
       "      <td>普渡大学</td>\n",
       "    </tr>\n",
       "    <tr>\n",
       "      <th>2</th>\n",
       "      <td>中锋</td>\n",
       "      <td>99</td>\n",
       "      <td>塔科·法尔 (TW)</td>\n",
       "      <td>7英尺7英寸</td>\n",
       "      <td>2.31</td>\n",
       "      <td>289磅</td>\n",
       "      <td>131</td>\n",
       "      <td>1995–12–10</td>\n",
       "      <td>中佛罗里达大学</td>\n",
       "    </tr>\n",
       "    <tr>\n",
       "      <th>3</th>\n",
       "      <td>后卫</td>\n",
       "      <td>43</td>\n",
       "      <td>雅沃特·格林</td>\n",
       "      <td>6英尺4英寸</td>\n",
       "      <td>1.93</td>\n",
       "      <td>205磅</td>\n",
       "      <td>93</td>\n",
       "      <td>1993–07–23</td>\n",
       "      <td>里德福大学</td>\n",
       "    </tr>\n",
       "    <tr>\n",
       "      <th>4</th>\n",
       "      <td>摇摆人</td>\n",
       "      <td>20</td>\n",
       "      <td>戈登·海沃德</td>\n",
       "      <td>6英尺8英寸</td>\n",
       "      <td>2.03</td>\n",
       "      <td>226磅</td>\n",
       "      <td>103</td>\n",
       "      <td>1990–03–23</td>\n",
       "      <td>巴特勒大学</td>\n",
       "    </tr>\n",
       "  </tbody>\n",
       "</table>\n",
       "</div>"
      ],
      "text/plain": [
       "    位置  编号          姓名      身高   身高米   体重磅  体重kg 出生日期 (年–月–日)         来自\n",
       "0   前锋   7       杰伦·布朗  6英尺7英寸  2.01  225磅   102   1996–10–24  加州大学柏克莱分校\n",
       "1   后卫   4     科尔森·爱德华  6英尺1英寸  1.85  200磅    91   1998–03–21       普渡大学\n",
       "2   中锋  99  塔科·法尔 (TW)  7英尺7英寸  2.31  289磅   131   1995–12–10    中佛罗里达大学\n",
       "3   后卫  43      雅沃特·格林  6英尺4英寸  1.93  205磅    93   1993–07–23      里德福大学\n",
       "4  摇摆人  20      戈登·海沃德  6英尺8英寸  2.03  226磅   103   1990–03–23      巴特勒大学"
      ]
     },
     "execution_count": 71,
     "metadata": {},
     "output_type": "execute_result"
    }
   ],
   "source": [
    "nba=pd.read_csv('本周作业数据/NBA东部联盟球员列表.csv')\n",
    "nba.head()"
   ]
  }
 ],
 "metadata": {
  "kernelspec": {
   "display_name": "Python 3",
   "language": "python",
   "name": "python3"
  },
  "language_info": {
   "codemirror_mode": {
    "name": "ipython",
    "version": 3
   },
   "file_extension": ".py",
   "mimetype": "text/x-python",
   "name": "python",
   "nbconvert_exporter": "python",
   "pygments_lexer": "ipython3",
   "version": "3.8.5"
  },
  "latex_envs": {
   "LaTeX_envs_menu_present": true,
   "autoclose": false,
   "autocomplete": true,
   "bibliofile": "biblio.bib",
   "cite_by": "apalike",
   "current_citInitial": 1,
   "eqLabelWithNumbers": true,
   "eqNumInitial": 1,
   "hotkeys": {
    "equation": "Ctrl-E",
    "itemize": "Ctrl-I"
   },
   "labels_anchors": false,
   "latex_user_defs": false,
   "report_style_numbering": false,
   "user_envs_cfg": false
  },
  "toc": {
   "base_numbering": 1,
   "nav_menu": {},
   "number_sections": true,
   "sideBar": true,
   "skip_h1_title": true,
   "title_cell": "Table of Contents",
   "title_sidebar": "Contents",
   "toc_cell": true,
   "toc_position": {},
   "toc_section_display": true,
   "toc_window_display": false
  }
 },
 "nbformat": 4,
 "nbformat_minor": 4
}
