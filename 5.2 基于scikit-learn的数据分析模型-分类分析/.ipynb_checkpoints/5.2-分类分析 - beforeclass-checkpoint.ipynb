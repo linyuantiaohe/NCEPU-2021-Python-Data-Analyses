{
 "cells": [
  {
   "cell_type": "markdown",
   "metadata": {},
   "source": [
    "# 5.2 scikit-learn（2）：分类分析"
   ]
  },
  {
   "cell_type": "code",
   "execution_count": null,
   "metadata": {},
   "outputs": [],
   "source": [
    "import pandas as pd\n",
    "import numpy as np\n",
    "import matplotlib.pyplot as plt\n",
    "plt.rcParams['font.sans-serif']=['SimHei']\n",
    "plt.rcParams['axes.unicode_minus']=False"
   ]
  },
  {
   "cell_type": "markdown",
   "metadata": {
    "toc": true
   },
   "source": [
    "<h1>Table of Contents<span class=\"tocSkip\"></span></h1>\n",
    "<div class=\"toc\"><ul class=\"toc-item\"><li><span><a href=\"#什么是分类分析（classification-analysis）\" data-toc-modified-id=\"什么是分类分析（classification-analysis）-1\"><span class=\"toc-item-num\">1&nbsp;&nbsp;</span>什么是分类分析（classification analysis）</a></span></li><li><span><a href=\"#基于支持向量机（SVM）的分类模型\" data-toc-modified-id=\"基于支持向量机（SVM）的分类模型-2\"><span class=\"toc-item-num\">2&nbsp;&nbsp;</span>基于支持向量机（SVM）的分类模型</a></span></li><li><span><a href=\"#sklearn的线性SVM分类模型实现\" data-toc-modified-id=\"sklearn的线性SVM分类模型实现-3\"><span class=\"toc-item-num\">3&nbsp;&nbsp;</span>sklearn的线性SVM分类模型实现</a></span><ul class=\"toc-item\"><li><span><a href=\"#例1.随机数据的演示\" data-toc-modified-id=\"例1.随机数据的演示-3.1\"><span class=\"toc-item-num\">3.1&nbsp;&nbsp;</span>例1.随机数据的演示</a></span></li><li><span><a href=\"#例-2.-通过身高体重判断男女\" data-toc-modified-id=\"例-2.-通过身高体重判断男女-3.2\"><span class=\"toc-item-num\">3.2&nbsp;&nbsp;</span>例 2. 通过身高体重判断男女</a></span></li></ul></li><li><span><a href=\"#支持向量机的多元分类\" data-toc-modified-id=\"支持向量机的多元分类-4\"><span class=\"toc-item-num\">4&nbsp;&nbsp;</span>支持向量机的多元分类</a></span><ul class=\"toc-item\"><li><span><a href=\"#例子：经纬度坐标的分省\" data-toc-modified-id=\"例子：经纬度坐标的分省-4.1\"><span class=\"toc-item-num\">4.1&nbsp;&nbsp;</span>例子：经纬度坐标的分省</a></span></li><li><span><a href=\"#可以将该模型保存后续使用\" data-toc-modified-id=\"可以将该模型保存后续使用-4.2\"><span class=\"toc-item-num\">4.2&nbsp;&nbsp;</span>可以将该模型保存后续使用</a></span></li></ul></li><li><span><a href=\"#其他分类模型\" data-toc-modified-id=\"其他分类模型-5\"><span class=\"toc-item-num\">5&nbsp;&nbsp;</span>其他分类模型</a></span></li><li><span><a href=\"#作业\" data-toc-modified-id=\"作业-6\"><span class=\"toc-item-num\">6&nbsp;&nbsp;</span>作业</a></span></li></ul></div>"
   ]
  },
  {
   "cell_type": "markdown",
   "metadata": {},
   "source": [
    "## 什么是分类分析（classification analysis）\n",
    "\n",
    "在机器学习和统计中，分类是基于包含其类别成员资格已知的观察（或实例）的训练数据集来识别新观察所属的一组类别（子群体）中的哪一个的问题。例如，将给定的电子邮件分配给“垃圾邮件”或“非垃圾邮件”类，并根据观察到的患者特征（性别，血压，某些症状的存在或不存在等）为给定患者分配诊断。\n",
    "\n",
    "分类是一个有监督的学习过程，目标数据库中**有哪些类别是已知**的，分类过程需要做的就是把每一条记录归到对应的类别之中。由于必须事先知道各个类别的信息，并且所有待分类的数据条目都默认有对应的类别，因此分类算法也有其局限性，当上述条件无法满足时，我们就需要尝试聚类分析。\n",
    "\n",
    "通常，将各个观察结果分析为一组可量化的属性，不同地称为解释变量或特征。这些属性可以不同地分类（例如，“A”，“B”，“AB”或“O”，对于血型），序数（例如“大”，“中”或“小”），整数值（例如，电子邮件中特定单词的出现次数）或实际值（例如血压的测量值）。\n",
    "\n",
    "实现分类的算法，特别是在具体实现中，被称为分类器。术语“分类器”有时也指由分类算法实现的数学函数，其将输入数据映射到类别。"
   ]
  },
  {
   "cell_type": "markdown",
   "metadata": {},
   "source": [
    "## 基于支持向量机（SVM）的分类模型\n",
    "\n",
    "使用SVM分类，实质是构建与能够使离超平面最近的数据点的到超平面距离最大的超平面。\n",
    "\n",
    "![分类示意图](分类示意图.jpg)\n",
    "参考：[https://zhuanlan.zhihu.com/p/49331510](https://zhuanlan.zhihu.com/p/49331510)"
   ]
  },
  {
   "cell_type": "markdown",
   "metadata": {},
   "source": [
    "## sklearn的线性SVM分类模型实现"
   ]
  },
  {
   "cell_type": "markdown",
   "metadata": {},
   "source": [
    "### 例1.随机数据的演示"
   ]
  },
  {
   "cell_type": "code",
   "execution_count": null,
   "metadata": {},
   "outputs": [],
   "source": [
    "from sklearn.svm import SVC #从sklearn的SVM模型中导入SVC方法"
   ]
  },
  {
   "cell_type": "markdown",
   "metadata": {},
   "source": [
    "注意：SVC的拟合所需时间是$O(n^2)$的，即时间正比于样本量的平方。如果样本量过大，该方法可行性就很差，可以使用sklearn.svm.LinearSVC 或者 sklearn.linear_model.SGDClassifier 替代\n",
    "\n",
    "参考[https://scikit-learn.org/stable/modules/generated/sklearn.svm.SVC.html#sklearn.svm.SVC](https://scikit-learn.org/stable/modules/generated/sklearn.svm.SVC.html#sklearn.svm.SVC)"
   ]
  },
  {
   "cell_type": "code",
   "execution_count": null,
   "metadata": {},
   "outputs": [],
   "source": [
    "X0=np.random.rand(100,2)\n",
    "Y0=np.array([0]*100)"
   ]
  },
  {
   "cell_type": "markdown",
   "metadata": {},
   "source": [
    "上边，随机生成一组样本量为100的[0,1]之间的随机二维坐标，并将其分类记为0"
   ]
  },
  {
   "cell_type": "code",
   "execution_count": null,
   "metadata": {},
   "outputs": [],
   "source": [
    "X1=np.random.rand(100,2)+0.8\n",
    "Y1=np.array([1]*100)"
   ]
  },
  {
   "cell_type": "markdown",
   "metadata": {},
   "source": [
    "上边，随机生成一组样本量为100的[1,2]之间的随机二维坐标，并将其分类记为1\n",
    "\n",
    "下边，我们把这两组数据画在图上"
   ]
  },
  {
   "cell_type": "code",
   "execution_count": null,
   "metadata": {},
   "outputs": [],
   "source": [
    "fig,ax=plt.subplots(1,4,figsize=(16,4))\n",
    "ax[0].scatter(X0[:,0],X0[:,1],c='red',label='0')\n",
    "ax[0].scatter(X1[:,0],X1[:,1],c='blue',label='1')\n",
    "ax[0].legend()\n",
    "ax[0].set_title('(1)全样本')"
   ]
  },
  {
   "cell_type": "markdown",
   "metadata": {},
   "source": [
    "下边，我们在这两组样本中各取一半，组成用于机器学习的样本，另一半用于检验。"
   ]
  },
  {
   "cell_type": "code",
   "execution_count": null,
   "metadata": {},
   "outputs": [],
   "source": [
    "X_study=np.vstack((X0[0:50],X1[0:50]))\n",
    "Y_study=np.hstack((Y0[0:50],Y1[0:50]))\n",
    "X_test=np.vstack((X0[50:],X1[50:]))\n",
    "Y_test=np.hstack((Y0[50:],Y1[50:]))"
   ]
  },
  {
   "cell_type": "markdown",
   "metadata": {},
   "source": [
    "下边，画出用于学习的样本和用于检验的样本"
   ]
  },
  {
   "cell_type": "code",
   "execution_count": null,
   "metadata": {
    "scrolled": true
   },
   "outputs": [],
   "source": [
    "ax[1].scatter(X_study[:,0],X_study[:,1],c=Y_study)\n",
    "ax[1].set_title('(2)学习样本')\n",
    "\n",
    "ax[2].cla()\n",
    "ax[2].scatter(X_test[:,0],X_test[:,1],c=Y_test)\n",
    "ax[2].set_title('(3)检验样本')\n",
    "fig"
   ]
  },
  {
   "cell_type": "markdown",
   "metadata": {},
   "source": [
    "**构建线性SVM分类模型**"
   ]
  },
  {
   "cell_type": "code",
   "execution_count": null,
   "metadata": {},
   "outputs": [],
   "source": [
    "clf = SVC(kernel='linear')  #构建SVC对象，kernel='linear'意为线性模型\n",
    "clf.fit(X_study, Y_study)  #使用fit方法进行拟合"
   ]
  },
  {
   "cell_type": "code",
   "execution_count": null,
   "metadata": {},
   "outputs": [],
   "source": [
    "Y_predict=clf.predict(X_test) #用构建的模型对检验样本做分类"
   ]
  },
  {
   "cell_type": "markdown",
   "metadata": {},
   "source": [
    "将检验结果画到图上"
   ]
  },
  {
   "cell_type": "code",
   "execution_count": null,
   "metadata": {},
   "outputs": [],
   "source": [
    "ax[3].cla()\n",
    "ax[3].scatter(X_test[:,0],X_test[:,1],c=Y_predict)\n",
    "ax[3].set_title('(4)检验结果')\n",
    "fig"
   ]
  },
  {
   "cell_type": "markdown",
   "metadata": {},
   "source": [
    "同样可以使用score方法对模型进行评价"
   ]
  },
  {
   "cell_type": "code",
   "execution_count": null,
   "metadata": {},
   "outputs": [],
   "source": [
    "clf.score(X_test,Y_test)"
   ]
  },
  {
   "cell_type": "markdown",
   "metadata": {},
   "source": [
    "### 例 2. 通过身高体重判断男女"
   ]
  },
  {
   "cell_type": "code",
   "execution_count": null,
   "metadata": {},
   "outputs": [],
   "source": [
    "boy1=pd.read_csv('青春有你1.csv',index_col=0)\n",
    "girl=pd.read_csv('青春有你2.csv',index_col=0)\n",
    "boy2=pd.read_excel('青春有你3.xlsx',index_col=0)"
   ]
  },
  {
   "cell_type": "code",
   "execution_count": null,
   "metadata": {},
   "outputs": [],
   "source": [
    "boy2.head()"
   ]
  },
  {
   "cell_type": "code",
   "execution_count": null,
   "metadata": {},
   "outputs": [],
   "source": [
    "test=pd.read_csv('待测.csv',index_col=0,encoding='gbk')\n",
    "test.head()"
   ]
  },
  {
   "cell_type": "markdown",
   "metadata": {},
   "source": [
    "将《青春有你》三季选手数据作为学习数据"
   ]
  },
  {
   "cell_type": "code",
   "execution_count": null,
   "metadata": {},
   "outputs": [],
   "source": [
    "X_boy1=boy1.values\n",
    "X_girl=girl.values\n",
    "X_boy2=boy2.values\n",
    "Y_boy1=np.array([1]*len(boy1))\n",
    "Y_girl=np.array([0]*len(girl))\n",
    "Y_boy2=np.array([1]*len(boy2))"
   ]
  },
  {
   "cell_type": "code",
   "execution_count": null,
   "metadata": {},
   "outputs": [],
   "source": [
    "X_boy1"
   ]
  },
  {
   "cell_type": "code",
   "execution_count": null,
   "metadata": {},
   "outputs": [],
   "source": [
    "X_idol_study=np.vstack((X_boy1,X_girl,X_boy2))"
   ]
  },
  {
   "cell_type": "code",
   "execution_count": null,
   "metadata": {
    "scrolled": false
   },
   "outputs": [],
   "source": [
    "X_idol_study"
   ]
  },
  {
   "cell_type": "code",
   "execution_count": null,
   "metadata": {},
   "outputs": [],
   "source": [
    "Y_idol_study=np.hstack((Y_boy1,Y_girl,Y_boy2))"
   ]
  },
  {
   "cell_type": "code",
   "execution_count": null,
   "metadata": {},
   "outputs": [],
   "source": [
    "Y_idol_study"
   ]
  },
  {
   "cell_type": "code",
   "execution_count": null,
   "metadata": {},
   "outputs": [],
   "source": [
    "X_test=test.values[:,1:] #待检测明星数据\n",
    "Y_test=test.values[:,0]"
   ]
  },
  {
   "cell_type": "code",
   "execution_count": null,
   "metadata": {},
   "outputs": [],
   "source": [
    "X_test=test[['身高','体重']].values"
   ]
  },
  {
   "cell_type": "code",
   "execution_count": null,
   "metadata": {},
   "outputs": [],
   "source": [
    "Y_test=test[['性别']].values"
   ]
  },
  {
   "cell_type": "code",
   "execution_count": null,
   "metadata": {},
   "outputs": [],
   "source": [
    "Y_test"
   ]
  },
  {
   "cell_type": "markdown",
   "metadata": {},
   "source": [
    "画出学习样本、测样本的分布图"
   ]
  },
  {
   "cell_type": "code",
   "execution_count": null,
   "metadata": {},
   "outputs": [],
   "source": [
    "fig1,ax1=plt.subplots(1,3,figsize=(15,5))\n",
    "studypic=ax1[0].scatter(X_idol_study[:,0],X_idol_study[:,1],c=Y_idol_study)\n",
    "handles, labels = studypic.legend_elements(prop=\"colors\")\n",
    "ax1[0].legend(handles,labels)\n",
    "ax1[0].set_title('(1)学习样本')"
   ]
  },
  {
   "cell_type": "code",
   "execution_count": null,
   "metadata": {
    "scrolled": false
   },
   "outputs": [],
   "source": [
    "testpic=ax1[1].scatter(X_test[:,0],X_test[:,1],c=Y_test)\n",
    "handles, labels = testpic.legend_elements(prop=\"colors\")\n",
    "ax1[1].legend(handles,labels)\n",
    "ax1[1].set_title('(2)检验样本')\n",
    "fig1"
   ]
  },
  {
   "cell_type": "markdown",
   "metadata": {},
   "source": [
    "构建线性SVM模型，应用fit方法进行拟合，得到拟合模型后对待检验样本使用predict方法进行检验"
   ]
  },
  {
   "cell_type": "code",
   "execution_count": null,
   "metadata": {},
   "outputs": [],
   "source": [
    "clf_idol = SVC(kernel='linear')  #构建SVC对象，kernel='linear'意为线性模型\n",
    "clf_idol.fit(X_idol_study, Y_idol_study)  #使用fit方法进行拟合"
   ]
  },
  {
   "cell_type": "code",
   "execution_count": null,
   "metadata": {},
   "outputs": [],
   "source": [
    "Y_idol_predict=clf_idol.predict(X_test) #用构建的模型对检验样本做分类"
   ]
  },
  {
   "cell_type": "markdown",
   "metadata": {},
   "source": [
    "将检验结果画到图中"
   ]
  },
  {
   "cell_type": "code",
   "execution_count": null,
   "metadata": {},
   "outputs": [],
   "source": [
    "exampic=ax1[2].scatter(X_test[:,0],X_test[:,1],c=Y_idol_predict)\n",
    "handles, labels = exampic.legend_elements(prop=\"colors\")\n",
    "ax1[2].legend(handles,labels)\n",
    "ax1[2].set_title('(3)检验结果')\n",
    "fig1"
   ]
  },
  {
   "cell_type": "markdown",
   "metadata": {},
   "source": [
    "应用score方法检验模型效果"
   ]
  },
  {
   "cell_type": "code",
   "execution_count": null,
   "metadata": {},
   "outputs": [],
   "source": [
    "clf_idol.score(X_idol_study, Y_idol_study)"
   ]
  },
  {
   "cell_type": "code",
   "execution_count": null,
   "metadata": {},
   "outputs": [],
   "source": [
    "clf_idol.score(X_test,Y_test)"
   ]
  },
  {
   "cell_type": "markdown",
   "metadata": {},
   "source": [
    "## 支持向量机的多元分类\n",
    "\n",
    "SVC 和 NuSVC 为多元分类实现了 “one-against-one” 的方法 (Knerr et al., 1990) 如果 n_class 是类别的数量, 那么 n_class * (n_class - 1) / 2 分类器被重构, 而且每一个从两个类别中训练数据. 为了提供与其他分类器一致的接口, decision_function_shape 选项允许聚合 “one-against-one” 分类器的结果成 (n_samples, n_classes) 的大小到决策函数。\n",
    "\n",
    "来源：[https://sklearn.apachecn.org/docs/0.21.3/5.html](https://sklearn.apachecn.org/docs/0.21.3/5.html)"
   ]
  },
  {
   "cell_type": "markdown",
   "metadata": {},
   "source": [
    "### 例子：经纬度坐标的分省"
   ]
  },
  {
   "cell_type": "markdown",
   "metadata": {},
   "source": [
    "数据文件 县经纬度.csv 包含了全国2200余县市的经纬度和其对应的省份。\n",
    "如下所示，数据文件共有5列，其中最后一列的编号为对应的省的编号。"
   ]
  },
  {
   "cell_type": "code",
   "execution_count": null,
   "metadata": {},
   "outputs": [],
   "source": [
    "xian=pd.read_csv('县经纬度.csv',index_col=0) #导入数据\n",
    "xian"
   ]
  },
  {
   "cell_type": "code",
   "execution_count": null,
   "metadata": {},
   "outputs": [],
   "source": [
    "xian['省'].unique() #去重，省的顺序，与编号对应，可通过[编号]查询"
   ]
  },
  {
   "cell_type": "code",
   "execution_count": null,
   "metadata": {},
   "outputs": [],
   "source": [
    "province_clf = SVC(gamma='scale', decision_function_shape='ovo')  #可以多元分类的模型"
   ]
  },
  {
   "cell_type": "code",
   "execution_count": null,
   "metadata": {},
   "outputs": [],
   "source": [
    "province_clf.fit(xian[['经度','纬度']].values,xian['编号'].values)"
   ]
  },
  {
   "cell_type": "markdown",
   "metadata": {},
   "source": [
    "经纬度查询[https://jingweidu.bmcx.com/](https://jingweidu.bmcx.com/)可以查询任意地点的坐标"
   ]
  },
  {
   "cell_type": "code",
   "execution_count": null,
   "metadata": {},
   "outputs": [],
   "source": [
    "province_clf.predict([[98.5457180878906,39.835375895937744]])"
   ]
  },
  {
   "cell_type": "code",
   "execution_count": null,
   "metadata": {},
   "outputs": [],
   "source": [
    "xian['省'].unique()[24]"
   ]
  },
  {
   "cell_type": "code",
   "execution_count": null,
   "metadata": {
    "scrolled": true
   },
   "outputs": [],
   "source": [
    "province_clf.score(xian[['经度','纬度']].values,xian['编号'].values)"
   ]
  },
  {
   "cell_type": "markdown",
   "metadata": {},
   "source": [
    "### 可以将该模型保存后续使用\n",
    "\n",
    "使用Python的joblib模块的dump和load功能可以在scikit-learn中保存和读取已训练好的模型"
   ]
  },
  {
   "cell_type": "code",
   "execution_count": null,
   "metadata": {},
   "outputs": [],
   "source": [
    "import joblib\n",
    "joblib.dump(province_clf, 'province_clf.joblib') "
   ]
  },
  {
   "cell_type": "code",
   "execution_count": null,
   "metadata": {},
   "outputs": [],
   "source": [
    "newmodel=joblib.load('province_clf.joblib') "
   ]
  },
  {
   "cell_type": "code",
   "execution_count": null,
   "metadata": {},
   "outputs": [],
   "source": [
    "newmodel.predict([[35.1019362500,108.4350585900]])"
   ]
  },
  {
   "cell_type": "code",
   "execution_count": null,
   "metadata": {},
   "outputs": [],
   "source": [
    "xian['省'].unique()[30]"
   ]
  },
  {
   "cell_type": "markdown",
   "metadata": {},
   "source": [
    "## 其他分类模型\n",
    "\n",
    "sklearn提供了多种分类模型，参考[https://scikit-learn.org/stable/auto_examples/classification/plot_classifier_comparison.html#sphx-glr-auto-examples-classification-plot-classifier-comparison-py](https://scikit-learn.org/stable/auto_examples/classification/plot_classifier_comparison.html#sphx-glr-auto-examples-classification-plot-classifier-comparison-py)\n",
    "![classifier_comparison.png](classifier_comparison.png)"
   ]
  },
  {
   "cell_type": "markdown",
   "metadata": {},
   "source": [
    "注：天安门经纬度116.3972282409668,39.90960456049752，以下用于检验模型"
   ]
  },
  {
   "cell_type": "code",
   "execution_count": null,
   "metadata": {},
   "outputs": [],
   "source": [
    "tiananmen=[116.3972282409668,39.90960456049752]"
   ]
  },
  {
   "cell_type": "code",
   "execution_count": null,
   "metadata": {},
   "outputs": [],
   "source": [
    "xian['省'].unique()[province_clf.predict([tiananmen])]"
   ]
  },
  {
   "cell_type": "code",
   "execution_count": null,
   "metadata": {},
   "outputs": [],
   "source": [
    "from sklearn.gaussian_process import GaussianProcessClassifier\n",
    "from sklearn.gaussian_process.kernels import RBF"
   ]
  },
  {
   "cell_type": "code",
   "execution_count": null,
   "metadata": {},
   "outputs": [],
   "source": [
    "north=pd.concat([xian[xian['省']=='北京市'],xian[xian['省']=='天津市'],xian[xian['省']=='河北省'],xian[xian['省']=='山西省']],axis=0)"
   ]
  },
  {
   "cell_type": "code",
   "execution_count": null,
   "metadata": {},
   "outputs": [],
   "source": [
    "Gaussian_model=GaussianProcessClassifier(1.0 * RBF(1.0)).fit(north[['经度','纬度']].values,north['编号'].values)\n",
    "Gaussian_model.score(north[['经度','纬度']].values,north['编号'].values)"
   ]
  },
  {
   "cell_type": "code",
   "execution_count": null,
   "metadata": {},
   "outputs": [],
   "source": [
    "xian['省'].unique()[Gaussian_model.predict([tiananmen])]"
   ]
  },
  {
   "cell_type": "code",
   "execution_count": null,
   "metadata": {},
   "outputs": [],
   "source": [
    "RBF_SVM_model=SVC(gamma=2, C=1).fit(north[['经度','纬度']].values,north['编号'].values)\n",
    "RBF_SVM_model.score(north[['经度','纬度']].values,north['编号'].values)"
   ]
  },
  {
   "cell_type": "code",
   "execution_count": null,
   "metadata": {},
   "outputs": [],
   "source": [
    "xian['省'].unique()[RBF_SVM_model.predict([tiananmen])]"
   ]
  },
  {
   "cell_type": "markdown",
   "metadata": {},
   "source": [
    "## 作业\n",
    "\n",
    "使用 'NBA东部联盟球员列表.csv' 数据，\n",
    "\n",
    "1. 构建一个自变量为**身高米和体重kg**的分类器，用以判断一个球员的位置是否为**后卫**。（提示：可以使用pandas(4)中介绍的哑变量来处理位置数据，得到是否为后卫的0-1变量）\n",
    "\n",
    "2. 将该分类器用joblib保存为模型文件。\n",
    "\n",
    "3. 作业提交jupyter notebook代码。\n",
    "\n",
    "本次作业与周三作业写在一个notebook里，一起交"
   ]
  },
  {
   "cell_type": "code",
   "execution_count": null,
   "metadata": {},
   "outputs": [],
   "source": [
    "nba=pd.read_csv('NBA东部联盟球员列表.csv')\n",
    "nba.head()"
   ]
  }
 ],
 "metadata": {
  "kernelspec": {
   "display_name": "Python 3",
   "language": "python",
   "name": "python3"
  },
  "language_info": {
   "codemirror_mode": {
    "name": "ipython",
    "version": 3
   },
   "file_extension": ".py",
   "mimetype": "text/x-python",
   "name": "python",
   "nbconvert_exporter": "python",
   "pygments_lexer": "ipython3",
   "version": "3.8.5"
  },
  "latex_envs": {
   "LaTeX_envs_menu_present": true,
   "autoclose": false,
   "autocomplete": true,
   "bibliofile": "biblio.bib",
   "cite_by": "apalike",
   "current_citInitial": 1,
   "eqLabelWithNumbers": true,
   "eqNumInitial": 1,
   "hotkeys": {
    "equation": "Ctrl-E",
    "itemize": "Ctrl-I"
   },
   "labels_anchors": false,
   "latex_user_defs": false,
   "report_style_numbering": false,
   "user_envs_cfg": false
  },
  "toc": {
   "base_numbering": 1,
   "nav_menu": {},
   "number_sections": true,
   "sideBar": true,
   "skip_h1_title": true,
   "title_cell": "Table of Contents",
   "title_sidebar": "Contents",
   "toc_cell": true,
   "toc_position": {},
   "toc_section_display": true,
   "toc_window_display": false
  }
 },
 "nbformat": 4,
 "nbformat_minor": 4
}
